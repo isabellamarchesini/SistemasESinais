{
  "cells": [
    {
      "cell_type": "markdown",
      "id": "e9f52f5f-3621-412d-b389-32d63e6a62ee",
      "metadata": {
        "id": "e9f52f5f-3621-412d-b389-32d63e6a62ee"
      },
      "source": [
        "# Estabilidade de sistemas discretos\n",
        "\n",
        "Renato Naville Watanabe"
      ]
    },
    {
      "cell_type": "markdown",
      "id": "9d3a5755-c621-48f1-bcd4-15cf39576d7a",
      "metadata": {
        "jp-MarkdownHeadingCollapsed": true,
        "id": "9d3a5755-c621-48f1-bcd4-15cf39576d7a"
      },
      "source": [
        "## Definição\n",
        "\n",
        "Como já visto anteriormente, formalmente podemos definir um **sistema estável** como sendo um sistema que se receber uma entrada que tenha valores finitos:\n",
        "\n",
        "$$|x[n]| < B \\text{ ,para qualquer } n $$\n",
        "\n",
        "em que $B$ é um número real finito, então a saída também terá valores finitos:\n",
        "\n",
        "$$|y[n]| < L \\text{ .para qualquer } n$$\n",
        "\n",
        "em que $L$ é um outro número real finito.\n",
        "\n",
        "Um sistema que não respeita o critério acima é chamado de **sistema instável**, de acordo com o critério **BIBO** (*Bounded Input Bounded Output*; )."
      ]
    },
    {
      "cell_type": "markdown",
      "id": "4f1c4f06-407b-4e34-af9e-99686046472c",
      "metadata": {
        "jp-MarkdownHeadingCollapsed": true,
        "id": "4f1c4f06-407b-4e34-af9e-99686046472c"
      },
      "source": [
        "## Resposta ao impulso\n",
        "\n",
        "Vamos aqui estabelecer um critério para determinar a estabilidade de um sistema linear e invariante no tempo a partir da resposta ao impulso. Vamos começar da obtenção do sinal de saída $y[n]$ em resposta a um sinal de entrada $x[n]$ a partir da integral de convolução:\n",
        "\n",
        "$y[n] = \\displaystyle\\sum_{k=-\\infty}^\\infty h[k]x(n-k)$\n",
        "\n",
        "Como o critério de estabilidade diz que $|y[n]| < L$ se o sistema for estável, vamos calcular o módulo de $y[n]$:\n",
        "\n",
        "$|y[n]| = |\\displaystyle\\sum_{k=-\\infty}^\\infty h[k]x(n-k)|$\n",
        "\n",
        "Como o critério de estabilidade envolve uma desigualdade, podemos estabelecer um limite superior para o módulo de $y[n]$:\n",
        "\n",
        "$|y[n]| \\leq \\displaystyle\\sum_{k=-\\infty}^\\infty |h[k]x(n-k)| = \\displaystyle\\sum_{k=-\\infty}^\\infty |h[k]||x(n-k)|$\n",
        "\n",
        "Pelo critério de estabilidade o módulo de $x[n]$ é limitado ao valor de $B$. Então:\n",
        "\n",
        "$|y[n]| \\leq \\displaystyle\\sum_{k=-\\infty}^\\infty |h[k]|B = B\\displaystyle\\sum_{k=-\\infty}^\\infty |h[k]|$\n",
        "\n",
        "Então, para $|y[n]|< L$, com $L$ finito, temos que a somatória do módulo da resposta ao impulso tem que ser finita:\n",
        "\n",
        "$\\displaystyle\\sum_{k=-\\infty}^\\infty |h[k]|<\\infty$\n",
        "\n",
        "Portanto, se a integral do módulo da resposta ao impulso for finita (também pode se dizer que é **absolutamente somável**), o sistema é estável.\n",
        "\n",
        "---\n",
        "### Exemplo 1\n",
        "\n",
        "Vamos considerar um sistema com resposta ao impulso:\n",
        "\n",
        "$h[n] = (0.5)^nu[n]$\n",
        "\n",
        "A integral do módulo de $h[n]$ é:\n",
        "\n",
        "$\\displaystyle\\sum_{k=-\\infty}^\\infty |h[k]| = \\displaystyle\\sum_{k=-\\infty}^\\infty |(0.5)^ku[k]| = \\displaystyle\\sum_{k=0}^\\infty (0.5)^k = \\frac{1}{1-0.5} = 2$\n",
        "\n",
        "Portanto, o sistema com essa resposta ao impulso é estável.\n",
        "\n",
        "---\n",
        "\n",
        "---\n",
        "### Exemplo 2\n",
        "\n",
        "Vamos considerar um sistema com resposta ao impulso:\n",
        "\n",
        "$h[n] = (5)^nu[n]$\n",
        "\n",
        "A integral do módulo de $h[n]$ é:\n",
        "\n",
        "$$\\displaystyle\\sum_{k=-\\infty}^\\infty |h[k]| = \\displaystyle\\sum_{k=-\\infty}^\\infty |(5)^ku[k]| = \\displaystyle\\sum_{k=0}^\\infty (5)^k = \\infty$$\n",
        "\n",
        "Portanto, o sistema com essa resposta ao impulso é instável.\n",
        "\n",
        "---\n"
      ]
    },
    {
      "cell_type": "markdown",
      "id": "c4bdd737-f4c8-4d7d-b2fa-16c92c823068",
      "metadata": {
        "id": "c4bdd737-f4c8-4d7d-b2fa-16c92c823068"
      },
      "source": [
        "## Função de transferência\n",
        "\n",
        "As funções de transferência dos sistemas encontrados na prática tem o formato abaixo:\n",
        "\n",
        "$H(z) = \\frac{Y(z)}{X(z)} = \\frac{b_Mz^M +...+b_2z^2+b_1z + b_0}{z^N + a_{N-1}z^{N-1}+...+a_0}$\n",
        "\n",
        "Como já visto anteriormente, elas podem ser reescritas na forma de polos e zeros:\n",
        "\n",
        "$H(z) = \\frac{G(z-z_1)(z-z_2)...(z-z_M)}{(z-p_1)(z-p_2)...(z-p_N)}$\n",
        "\n",
        "Vamos agora analisar a estabilidade de acordo com o número de polos e zeros:"
      ]
    },
    {
      "cell_type": "markdown",
      "id": "941f4550-ae16-474c-a279-b7af831895fe",
      "metadata": {
        "id": "941f4550-ae16-474c-a279-b7af831895fe"
      },
      "source": [
        "### Caso em que $M<N$ com polos diferentes\n",
        "\n",
        "Quando $M<N$, podemos expandir a função de transferência como:\n",
        "\n",
        "$H(z) = \\frac{A_1}{z-p_1}+\\frac{A_2}{z-p_2}+...\\frac{A_N}{z-p_N}$\n",
        "\n",
        "Com isso a resposta ao impulso do sistema é:\n",
        "\n",
        "$h(t) = A_1p_1^n + A_2p_2^n+...+A_Np_N^n$\n",
        "\n",
        "Para a resposta ao impulso ser absolutamente somável, o módulo de todos os polos deverão ser menores do que 1.\n",
        "\n",
        "Portanto, se todos os polos do sistema tiverem módulo menor do que um, o sistema será estável.\n",
        "\n"
      ]
    },
    {
      "cell_type": "markdown",
      "id": "e3586558-6dfa-4f6d-841c-2b149810d7ac",
      "metadata": {
        "id": "e3586558-6dfa-4f6d-841c-2b149810d7ac"
      },
      "source": [
        "### Caso em que M < N com polos repetidos"
      ]
    },
    {
      "cell_type": "markdown",
      "id": "6118a79f-f371-4dec-86a6-2737fd0ba035",
      "metadata": {
        "tags": [],
        "id": "6118a79f-f371-4dec-86a6-2737fd0ba035"
      },
      "source": [
        "Quando $M<N$, e algum polo é repetido podemos expandir a função de transferência como:\n",
        "\n",
        "$H(z) = \\frac{B_1}{z-p_1} + \\frac{B_2}{(z-p_1)^2}+...+\\frac{B_r}{(z-p_1)^r}+\\frac{A_{r+1}}{z-p_{r+1}}+...\\frac{A_N}{z-p_N}$\n",
        "\n",
        "Com isso a resposta ao impulso do sistema é:\n",
        "\n",
        "$h[n] = B_1p_1^n+B_2np_1^n+...+B_rn^{r-1}p_1^n + A_{r+1}p_{r+1}^n+...+A_Np_N^n$\n",
        "\n",
        "Para a resposta ao impulso ser absolutamente somável, o módulo de todos os polos deverão ser menor do que 1.\n",
        "\n",
        "Portanto, se todos o módulo de todos os polos do sistema tiverem módulo menor do que um, o sistema será estável.\n"
      ]
    },
    {
      "cell_type": "markdown",
      "id": "bbb67374-4729-4261-ab90-13c5787fc9b9",
      "metadata": {
        "id": "bbb67374-4729-4261-ab90-13c5787fc9b9"
      },
      "source": [
        "### Caso em que $M=N$\n",
        "\n",
        "Quando $M=N$, podemos expandir a função de transferência como:\n",
        "\n",
        "$H(z) = A + \\frac{A_1}{z-p_1}+\\frac{A_2}{z-p_2}+...\\frac{A_N}{z-p_N}$\n",
        "\n",
        "Com isso a resposta ao impulso do sistema é:\n",
        "\n",
        "$h[n] = A\\delta[n] + A_1p_1^n + A_2p_2^n+...+A_Np_N^n$\n",
        "\n",
        "Para a resposta ao impulso ser absolutamente somável, o módulo de todos os polos deverão ser menor do que 1 (o impulso acrescenta apenas o valor 1 na soma).\n",
        "\n",
        "Portanto, se todos os polos do sistema tiverem módulo menor do que um, o sistema será estável.\n"
      ]
    },
    {
      "cell_type": "markdown",
      "id": "5cf4f217-25e0-440b-a09f-e24b02660089",
      "metadata": {
        "id": "5cf4f217-25e0-440b-a09f-e24b02660089"
      },
      "source": [
        "Portanto, de uma maneira geral, **se os polos do sistema tiverem módulo menor do que 1, o sistema é estável**.\n",
        "\n",
        "\n",
        "---\n",
        "\n",
        "### Exemplo 3\n",
        "\n",
        "Considere um sistema com a seguinte função de transferência:\n",
        "\n",
        "$H(s) = \\frac{1+z^{-1}}{1 - 4z^{-1} + 5z^{-2}} = \\frac{z^2+z}{z^2 - 4z^ + 5}$\n",
        "\n",
        "Os polos desse sistema são $p_1 = 2+j$ e $p_2 = 2-j$. Os módulos desses polos são $\\sqrt{3}>1$. Portanto o sistema é instável.\n",
        "\n",
        "<img src=https://github.com/rnwatanabe/SistemasESinais/blob/master/Imagens/exemploestabdisc.png?raw=1 width=\"400\">\n",
        "\n",
        "---"
      ]
    },
    {
      "cell_type": "markdown",
      "id": "7dd317a6-cd7e-4bf7-9deb-64f47697a31a",
      "metadata": {
        "id": "7dd317a6-cd7e-4bf7-9deb-64f47697a31a"
      },
      "source": [
        "---\n",
        "\n",
        "### Exemplo 4\n",
        "\n",
        "Considere um sistema com a seguinte função de transferência:\n",
        "\n",
        "$H(s) = \\frac{1-4z^-1}{1 + z^{-2}}=\\frac{z^2-4z}{z^2 + 1}$\n",
        "\n",
        "Os polos desse sistema são $p_1 =j$ e $p_2 = -j$. O módulo dos polos são iguais a 1. Portanto o sistema é instável.\n",
        "\n",
        "<img src=https://github.com/rnwatanabe/SistemasESinais/blob/master/Imagens/exemplo4estabdisc.png?raw=1 width=\"400\">\n",
        "\n",
        "---"
      ]
    },
    {
      "cell_type": "markdown",
      "id": "dece7a28-cf04-4e0c-a5a6-d8bd03a353c4",
      "metadata": {
        "id": "dece7a28-cf04-4e0c-a5a6-d8bd03a353c4",
        "jp-MarkdownHeadingCollapsed": true
      },
      "source": [
        "---\n",
        "\n",
        "### Exemplo 5\n",
        "\n",
        "Considere um sistema com a seguinte função de transferência:\n",
        "\n",
        "$H(s) =\\frac{1+z^{-1}-0.2z{^-2}}{1 +0,1z^{-1} - 0,2z^{-2}} = \\frac{z^2+1z-0.2}{z^2 +0,1z - 0,2}$\n",
        "\n",
        "Os polos desse sistema são $p_1 =0,2$ e $p_2 = -0,1$. O módulo dos polos são menores do que. Portanto o sistema é estável.\n",
        "\n",
        "<img src=https://github.com/rnwatanabe/SistemasESinais/blob/master/Imagens/exemplo5estabdisc.png?raw=1 width=\"400\">\n",
        "\n",
        "---"
      ]
    },
    {
      "cell_type": "markdown",
      "id": "ee7f5361-3fd1-4b79-b798-ca5e853bee4e",
      "metadata": {
        "id": "ee7f5361-3fd1-4b79-b798-ca5e853bee4e"
      },
      "source": [
        "Portanto, de uma maneira geral, **se os polos do sistema tiverem módulo menor do que 1, o sistema é estável**.\n"
      ]
    },
    {
      "cell_type": "markdown",
      "id": "253fb35f-46ff-4088-aeb7-b788b7707f1c",
      "metadata": {
        "id": "253fb35f-46ff-4088-aeb7-b788b7707f1c"
      },
      "source": [
        "## Realimentação\n",
        "\n",
        "Quando encontramos sistemas instáveis, é muito comum querermos fazer com que o sistema se comporte de maneira estável. A maneira tradicional de fazer isso é utilizando uma realimentação.\n",
        "\n",
        "<img src=https://github.com/rnwatanabe/SistemasESinais/blob/master/Imagens/realimentacaodisc.png?raw=1 width=\"600\">\n",
        "\n",
        "Nesse tipo de ligação de sistemas, o sinal $x[n]$ é calculado usando o sistema controlador a partir do sinal $e[n] = r[n]-y[n]$\n",
        "\n",
        "---\n",
        "\n",
        "### Exemplo 4\n",
        "\n",
        "Vamos considerar um sistema com a seguinte equação de diferenças:\n",
        "\n",
        "$y[n] = 3y[n-1] + x[n]$\n",
        "\n",
        "\n",
        "A função de transferência desse sistema é:\n",
        "\n",
        "$H(z) = \\frac{z}{z-3}$\n",
        "\n",
        "O polo desse sistema é 3. Ou seja, o sistema é instável.\n",
        "\n",
        "Para estabilizar esse sinal, podemos calcular o sinal $x[n]$ a partir de $e[n]=r[n]-y[n]$\n",
        "\n",
        "Se escolhermos o sistema controlador como:\n",
        "\n",
        "$x[n] = 2.5e(t)$\n",
        "\n",
        "Se fizermos isso $X(z) = 2.5E(z)$.\n",
        "\n",
        "Então:\n",
        "\n",
        "$Y(z) = \\frac{z}{z-3}2.5E(z) = \\frac{2.5z}{z-3}(R(z)-Y(z)) \\rightarrow Y(z)\\left(1 + \\frac{2.5z}{z-3}\\right) = \\frac{2.5z}{z-3}R(z) \\rightarrow \\frac{Y(z)}{R(z)} = \\frac{\\frac{2.5z}{z-3}}{\\frac{3.5z-3}{z-3}} = \\frac{2.5z}{3.5z-3} = \\frac{0.71z}{z-0.85}$\n",
        "\n",
        "Com a realimentação, a função de transferência entre $r[n]$ e $y[n]$ é:\n",
        "\n",
        "$H_2(z) = \\frac{0.71z}{z-0.85}$\n",
        "\n",
        "O polo desse novo sistema é 0,85, e consequentemente, o sistema resultante é estável.\n",
        "\n",
        "---\n",
        "Mais detalhes sobre esse tipo de sistema podem ser vistos em disciplinas de Controle como a disciplina *Análise e Controle de Sistemas Mecânicos*.\n"
      ]
    },
    {
      "cell_type": "markdown",
      "id": "8d275974-1b35-46c7-abc9-3223d88a8189",
      "metadata": {
        "id": "8d275974-1b35-46c7-abc9-3223d88a8189"
      },
      "source": [
        "## Exercícios"
      ]
    },
    {
      "cell_type": "markdown",
      "id": "3ce6f682-3249-48d9-9613-8fc6fda4f968",
      "metadata": {
        "id": "3ce6f682-3249-48d9-9613-8fc6fda4f968"
      },
      "source": [
        "**1)** Indique se os sistemas que geraram as seguintes respostas ao impulso são ou não são estáveis:\n",
        "\n",
        "a) $h_1[n] = 3^nu[n]$\n",
        "\n",
        "b) $h_2[n] = u[n]- u[n-10]$\n",
        "\n",
        "c) $h_3[n] = 5^nu[-n-2]$\n",
        "\n",
        "d) $h_4[n] = \\mathrm{sen}\\left(\\frac{\\pi n}{3}\\right)u[n]$\n",
        "\n"
      ]
    },
    {
      "cell_type": "markdown",
      "id": "98e8915d-f88d-42c8-9a5f-7b70704cb002",
      "metadata": {
        "id": "98e8915d-f88d-42c8-9a5f-7b70704cb002"
      },
      "source": [
        "**2)** Indique se os sistemas que geraram as seguintes respostas ao impulso são ou não são estáveis:\n",
        "\n",
        "a) $h_5[n] = 0.5^{|n|}\\cos\\left(\\frac{\\pi n}{4}+\\frac{\\pi}{4} \\right)$\n",
        "\n",
        "b) $h_6[n] = 3u[n+2] - u[n] - u[n-2]$\n",
        "\n",
        "c) $h_7[n] = n\\cos\\left(\\frac{\\pi n}{4} \\right)u[n]$\n",
        "\n",
        "d) $h_8[n] = 3^nu[-n+10]$"
      ]
    },
    {
      "cell_type": "markdown",
      "id": "32df6846-7919-43ff-85da-405698aa9186",
      "metadata": {
        "id": "32df6846-7919-43ff-85da-405698aa9186"
      },
      "source": [
        "**3)** Um sistema linear e invariante no tempo tem a seguinte resposta quando a entrada é um degrau:\n",
        "\n",
        "$y[n] = (0.5)^n u[n] + (-0.75)^nu[n]+u[n]$\n",
        "\n",
        "a) Determine a sua resposta ao impulso.\n",
        "\n",
        "b) Determine a equação de diferenças desse sistema.\n",
        "\n",
        "c) Faça o diagrama de polos e zeros do sistema.\n",
        "\n",
        "d) Determine se esse sistema é estável."
      ]
    },
    {
      "cell_type": "markdown",
      "id": "b8f03d70-6871-4325-84dd-0891c2116e2b",
      "metadata": {
        "id": "b8f03d70-6871-4325-84dd-0891c2116e2b"
      },
      "source": [
        "**4)** É aplicada a seguinte entrada a um sistema linear e invariante no tempo:\n",
        "\n",
        "$x[n] = 2(0.3)^nu[n]$\n",
        "\n",
        "e a saída para essa entrada é:\n",
        "\n",
        "$y[n] = 0.5(0.3)^nu[n] + 2(-0.6)^nu[n] + (1.2)^nu[n]$\n",
        "\n",
        "a) Qual a resposta ao impulso desse sistema?\n",
        "\n",
        "b) Qual o diagrama de polos e zeros desse sistema?\n",
        "\n",
        "c) Esse sistema é estável?\n",
        "\n"
      ]
    },
    {
      "cell_type": "markdown",
      "id": "1166ddfa-0280-4d8f-a79b-7d1112071839",
      "metadata": {
        "id": "1166ddfa-0280-4d8f-a79b-7d1112071839"
      },
      "source": [
        "**5)** Faça o diagrama de polos e zeros e determine se os sistemas abaixo são estáveis ou não.\n",
        "\n",
        "a) $H(z) = \\frac{1 + 0.2z^{-1}-9z^{-2}-1,8z^{-3}}{1+0.81z^{-2}}$\n",
        "\n",
        "b) $y[n] = 0.2y[n-1]-0.4y[n-2]+x[n]-0.2x[n-1]$\n",
        "\n",
        "c) $h[n] = n(0.3)^nu[n] + 2(0.3)^nu[n]$\n",
        "\n",
        "d) $H(z) = \\frac{z^2-7z+6}{z^2-5z+6}$"
      ]
    },
    {
      "cell_type": "markdown",
      "id": "7059c893-399a-4fd5-8d33-9843ffa8e875",
      "metadata": {
        "id": "7059c893-399a-4fd5-8d33-9843ffa8e875"
      },
      "source": [
        "**6)** Faça o diagrama de polos e zeros dos sistemas abaixo. Os sistemas abaixo são estáveis?\n",
        "\n",
        "\n",
        "a)\n",
        "\n",
        "<img src=https://github.com/rnwatanabe/SistemasESinais/blob/master/Imagens/ex6estaba.png?raw=1 width=\"600\">\n",
        "\n",
        "b)\n",
        "\n",
        "<img src=https://github.com/rnwatanabe/SistemasESinais/blob/master/Imagens/ex6estabb.png?raw=1 width=\"600\">\n",
        "\n",
        "c)\n",
        "\n",
        "<img src=https://github.com/rnwatanabe/SistemasESinais/blob/master/Imagens/ex6estabc.png?raw=1 width=\"600\">"
      ]
    },
    {
      "cell_type": "markdown",
      "id": "325fd1c8-90a6-4eba-bb89-ae6292509eba",
      "metadata": {
        "id": "325fd1c8-90a6-4eba-bb89-ae6292509eba"
      },
      "source": [
        "**7)** Considere o sistema abaixo:\n",
        "\n",
        "<img src=https://github.com/rnwatanabe/SistemasESinais/blob/master/Imagens/ex7estab.png?raw=1 width=\"600\">\n",
        "\n",
        "a) Encontre a função de transferência do sistema.\n",
        "\n",
        "b) Faça o diagrama de polos e zeros.\n",
        "\n",
        "c) O sistema é estável?"
      ]
    },
    {
      "cell_type": "markdown",
      "id": "937d5565-27a8-4e36-b183-f1602d8c8d7e",
      "metadata": {
        "id": "937d5565-27a8-4e36-b183-f1602d8c8d7e"
      },
      "source": [
        "**8)** Um sistema tem a seguinte resposta ao impulso:\n",
        "\n",
        "$h[n] = 2^nu[n] - (0.5)^nu[n] $\n",
        "\n",
        "Encontre uma constante $K$ de um sistema controlador que calcule a entrada do sistema da seguinte forma\n",
        "\n",
        "$x[n] = Ke[n] = K(r[n]-y[n])$\n",
        "\n",
        "para que o sistema com $r[n]$ na entrada e $y[n]$ na saída seja estável."
      ]
    },
    {
      "cell_type": "markdown",
      "id": "848d1a34-69de-4e09-b47e-d4d5f6af3f43",
      "metadata": {
        "id": "848d1a34-69de-4e09-b47e-d4d5f6af3f43"
      },
      "source": [
        "## Referências\n",
        "\n",
        "- Ulaby, FT e Yagle, AE, Signals & Systems: Theory and Applications, 2018, [ss2.eecs.umich.edu](ss2.eecs.umich.edu)\n",
        "\n",
        "- Oppenheim, A.  e Willsky, S., Sistemas e Sinais, 2010\n",
        "\n",
        "- Lathi, BP, Sinais e Sistemas Lineares, 2007\n",
        "\n",
        "- Ogata, K. Engenharia de controle moderno. 4a ed. Prentice Hall, 2003\n",
        "\n",
        "- Oppenheim, A., Shafer, R, Processamento em tempo discreto de sinais, 2013"
      ]
    },
    {
      "cell_type": "markdown",
      "source": [],
      "metadata": {
        "id": "R6NZ45NnNhHi"
      },
      "id": "R6NZ45NnNhHi"
    },
    {
      "cell_type": "markdown",
      "source": [
        "**3)** Resolvido por ISABELLA MARCHESINI\n",
        "\n",
        "$y[n] = (0.5)^n u[n] + (-0.75)^nu[n]+u[n]$\n",
        "\n",
        "a)\n",
        "$Y(z)=\\frac{z}{z-0.5}+\\frac{z}{z+0.75}+\\frac{z}{z-1}=\\frac{3z^3-1.5z^2-0.625z}{(z-0.5)(z+0.75)(z-1)}$\n",
        "\n",
        "$H(z)=\\frac{3z^3-1.5z^2-0.625z}{(z-0.5)(z+0.75)(z-1)}.\\frac{(z-1)}{z}=\\frac{3z^2-1.5z-0.625}{(z-0.5)(z+0.75)}=\\frac{3(z-0.792)(z+0.292)}{(z-0.5)(z+0.75)}$\n",
        "\n",
        "$H'(z)=\\frac{H(z)}{z}=\\frac{3(z-0.792)(z+0.292)}{z(z-0.5)(z+0.75)}=3(\\frac{A_1}{z}+\\frac{A_2}{z-0.5}+\\frac{A_3}{z+0.75})$\n",
        "\n",
        "$A_1=3(\\frac{(-0.792)(0.292)}{(-0.5)(0.75)})=1.85$\n",
        "\n",
        "$A_2=3(\\frac{(0.292)(-0.792)}{0.5(1.25)})=-1.11$\n",
        "\n",
        "$A_3=3(\\frac{(-1.592)(-0.458)}{(-0.75)(-1.25)})=2.31$\n",
        "\n",
        "$H(z)=H'(z).z=1.85-\\frac{1.11z}{z-0.5}+\\frac{2.31z}{z+0.75}$\n",
        "\n",
        "$h[n]=1.85δ[n]-1.11(0.5)^nu[n]+2.31(-0.75)^nu[n]$\n",
        "$$ $$\n",
        "\n",
        "b)  \n",
        "$H(z)=\\frac{3(z^2-0.5z-0.208)}{(z-0.5)(z+0.75)}=\\frac{3z^2-1.5z-0.625}{z^2+0.25z-0.375}.\\frac{z^{-2}}{z^{-2}}=\\frac{3-1.5z^{-1}-0.625z^{-2}}{1+0.25z^{-1}-0.375z^{-2}}=\\frac{Y(z)}{X(z)}$\n",
        "\n",
        "$Y(z)+0.25z^{-1}Y(z)-0.375z^{-2}Y(z)=3X(z)-1.5z^{-1}X(z0-0.625z^{-2}X(z)$\n",
        "\n",
        "$y[n]+0.25y[n-1]-0.375y[n-2]=3x[n]-1.5x[n-1]-0.625x[n-2]$\n",
        "\n",
        "c)\n",
        "\n",
        "$H(z)=\\frac{3z^2-1.5z-0.625}{(z-0.5)(z+0.75)}=\\frac{3(z^2-0.5z-0.208)}{(z-0.5)(z+0.75)}=\\frac{3(z-0.792)(z+0.292)}{(z-0.5)(z+0.75)}$\n",
        "\n",
        "$polos: 0.5, -0.75$\n",
        "\n",
        "$zeros: 0.792, -0.292$\n",
        "\n",
        "![Diagrama polos e zeros .jpeg](data:image/jpeg;base64,/9j/4AAQSkZJRgABAQAAAQABAAD/4gHYSUNDX1BST0ZJTEUAAQEAAAHIAAAAAAQwAABtbnRyUkdCIFhZWiAH4AABAAEAAAAAAABhY3NwAAAAAAAAAAAAAAAAAAAAAAAAAAAAAAAAAAAAAQAA9tYAAQAAAADTLQAAAAAAAAAAAAAAAAAAAAAAAAAAAAAAAAAAAAAAAAAAAAAAAAAAAAAAAAAAAAAAAAAAAAlkZXNjAAAA8AAAACRyWFlaAAABFAAAABRnWFlaAAABKAAAABRiWFlaAAABPAAAABR3dHB0AAABUAAAABRyVFJDAAABZAAAAChnVFJDAAABZAAAAChiVFJDAAABZAAAAChjcHJ0AAABjAAAADxtbHVjAAAAAAAAAAEAAAAMZW5VUwAAAAgAAAAcAHMAUgBHAEJYWVogAAAAAAAAb6IAADj1AAADkFhZWiAAAAAAAABimQAAt4UAABjaWFlaIAAAAAAAACSgAAAPhAAAts9YWVogAAAAAAAA9tYAAQAAAADTLXBhcmEAAAAAAAQAAAACZmYAAPKnAAANWQAAE9AAAApbAAAAAAAAAABtbHVjAAAAAAAAAAEAAAAMZW5VUwAAACAAAAAcAEcAbwBvAGcAbABlACAASQBuAGMALgAgADIAMAAxADb/2wBDAAMCAgICAgMCAgIDAwMDBAYEBAQEBAgGBgUGCQgKCgkICQkKDA8MCgsOCwkJDRENDg8QEBEQCgwSExIQEw8QEBD/2wBDAQMDAwQDBAgEBAgQCwkLEBAQEBAQEBAQEBAQEBAQEBAQEBAQEBAQEBAQEBAQEBAQEBAQEBAQEBAQEBAQEBAQEBD/wAARCAGyAe8DASIAAhEBAxEB/8QAHgABAAICAwEBAQAAAAAAAAAAAAYHBQgBAgQDCQr/xABXEAABAwMCAwIGCQ4KCAcAAAAAAQIDBAUGBxEIEiETMQkiQWWztBQZI1FhZnV2lhUYMjhCVldYdJWytdPUFhcoM1NxkbHR0iY3VWiCpMHDJCVigaGjpf/EABQBAQAAAAAAAAAAAAAAAAAAAAD/xAAUEQEAAAAAAAAAAAAAAAAAAAAA/9oADAMBAAIRAxEAPwD9UwAAAAAAAAAAAAAAAAAAAAAAAAAAAAAAAAAAAAAAAAAAAAAAAAAAAAAAAAAAAAAAAAAAAAAAAAAAAAAAAAAAAAAAAAAAAAAAAAAAAAAAAAAAAAAAAAAAAAAAAAABANd9Ycc0G0qyDVDJ5mtpbNSukjiV2zp51TaOJvvq52yFMcAHGE3iw0yrKrI0pKXM7BVPiutLAnKx8L3K6GZje9G8qoxe/qzf7pCBeEi4b+IziYorRjmnlwslDhVhgkudcyrrXRy1dYiO23aifYsYnTdequ38iGs3gzOGDiQxLIsW4kMMuNifh997eiudDLWuZNNSNmdE/wATbbma+NXN/qQD9fAAAAAAAAAAAAAAAAAAAAAAAAAAAAAAAAAAAAAAAAAAAAAAAAAAAAAAAAAAAAAAAAAAAAAAAAAAAAAAAAYjL12xS9L5vqPRuNd/Bpp/IzwNffdcl/5+c2HzHpiV7XzdU+jca8+DVT+RjgPw/VL9YVAGzwAAAAAAAAAAAAAAAAAAAAAAAAAAAAAAAAAAAAAAAAAAAAAAAAAAAAAAAAAAAAAAAAAAAAAAAAAAAAAAAMNmi7YffF83VPo3Gvng1024MNPv6rl+sKg2CzZdsNvq+ban0TjX/wAGym3Bfp4vvsuK/wD6FSBs0AAAAAAAAAAAAAAAAAAAAAAAAAAAAAAAAAAAAAAAAAAAAAAAAAAAAAAAAAAAAAAAAAAAAAAAAAAAAAAADCZx0wu/L5tqfROKB8G0m3Bbp18Mdx/WNSX5na7YTf182VPonFCeDcT+RZpv8MNx/WNSBswAAAAAAAAAAAAAAAAAAAAAAAAAAAAAAAAAAAAAAAAAAAAAAAAAAAAAAAAAAAAAAAAAAAAAAAAAAAAAAADA56u2D5Avmuq9E4ofwbybcFemvwwXH9ZVRe+oHTBciXzXVeicUT4N/wC0q00/J7h+sqoDZUAAAAAAAAAAAAAAAAAAAAAAAAAAAAAAAAAAAAAAAAAAAAAAAAAAAAAAAAAAAAAAAAAAAAAAAAAAAAAAAEe1DXbAsjXzVVeicUX4N/7SrTP8muH6xqi89RV2wDJF81VfonFGeDe+0p0z/Jrh+sakDZUAAAAAAAAAAAAAAAAAAAAAAAAAAAAAAAAAAAAAAAAAAAAAAAAAAAAAAAAAAAAAAAAAAAAAAAAAAAAAAAEc1H6afZKvmmr9E4o3wb/2lOmX5LX/AKxqS8dSV208yZfNFX6JxR3g3/tKdMvyWv8A1hUgbKgAAAAAAAAAAAAAAAAAAAAAAAAAAAAAAAAAAAAAAAAAAAAAAAAAAAAAAAAAAAAAAAAAAAAAAAAAADAZRneK4dHvfrvFDKsElSymZvJPLFG5jZHMjbu5yNWRm+ydOZNzASZTqPf3uZimGw2+n5JkSsvU3Z+6x1LGNRImbuVj4e0e13wNRe8CfHzknghTeWZjOm/jORPgIJNp3l18X/SjVC7pEsUsbqezxR0Ue/sts0MiO2dIj2xtSFfG5XNVy8qKvT6JohpvKifVKy1FzcjKmPmuFfUVC8k9SlTI3Z71RU7VrVb08VERG7J0A+uqGR4/Dp3k6S3ygYv1IrujqhifYRq13l8iqiL7yqhTPg4rjb04L9M4Fr6ftG0teis7Vu6KlfUKvTfyI5F/90LO1K0v04i05ylzcGsar9SrpJu6ijcvNO3tJl6p929jXO99WovkKS4AtLdPMm4L9OJb5iFtqpKihuSSyLFyvf2ldMkm7m7KquSONFXfdUY1PIBt01zX78rkXbouynJAKzRbFXuqprJdcisM9ZLPPJLbbvM33aZGtfIjJFezfZjUROXlb12RFVTtVWLVeyOq6nHstoL3G98ksNFdqbslZujGxxNmi7mtRHOVXNc5VXyAT0ECqNUlx6WZmd41X2WnjlVjK5G9vSvasjY41V7N+VXvd0aqb7dV2JrRV9DcofZNvq4amLmczniej28yLsqbp5UXoqAegAAAAAAAAAAAAAAAAAAAAAAAAAAAAAAAAAAAAAAAAAAAAAAAAAAAAAAAAAAAAAAAAAxmR5HZsUtUl4vtfBSUzHMjR8siMR8j3I1jEVfunOVGonlVUA9lZW0lvp3VVdUxQQs2RXyPRrUVV2RN18qr0K/TJsu1Hb2eDNdZ7HI5WPvVTHtPNE+F6K6mjcniyRy8v84myoi951ocXu2pcrb3qFRy09lcm9LjlQxOVyI+OSOSqYqL7tHJGit5XbIilk9wEYxjTvGsZmW5RUns27ySSTzXKscs1Q6WVrEmcxXKvYo/s2KrI+Vvip06EnAAAACL6o9NNspXzPWehcUt4OdNuC3TH8irPX6gujVTppnlfyNWehcUx4OlNuC7TH8hq/XqgDZAAAcKiL3oQWr0uprZcW3vT+4Pxup7Rr56WnjRaKoYj3PkYsG6MY+RzvGlRObp5SdgCD45qFUtuNLimfW+Oy5BUMXsWterqate1iPlWnevVzWI5EVXInUnBicnxaxZlZarHsiofZVDWR9lMxJHxOVu6Lsj2Kjm9Wp3KncRGgv980/u0OPZpVSV9prpXtt957PlSHZkkrmVKp4sMbGtRjXuXxl2TvAsQHDXNe1HNcitVN0VF6KhyAAAAAAAAAAAAAAAAAAAAAAAAAAAAAAAAAAAAAAAAAAAAAAAAAAAAAAAAAAAHwra2jttJLX3CrhpaaBqvlmmkRjI2p3q5y9ET4VK/sFqq9RbymZZPRTxWimV0dqtVUxOWRN093mjXmY9eZqOjei9EXc5yub+H2XM06paiNbZbUjrMgYrV3lY7fs6V7Ht5JIpE35tl3TZCwqengpKeKkpYWRQwsbHHGxNmsaibIiJ5EREA+gAAAAAAAIrqsu2mOWL5lrPQuKb8HWm3Bfpj+QVXrtQXHqz00vy1fMtb6FxTvg7k24MNMPk+q9dnA2NAAAAADw3yx2jJbRV2G/26nr7dXxOgqaaoYj45WL3tci96HuAEAxS6XXE8jTTvJauorWVEctXZrg+NVWWFjo+0jmciIyNzXTMZG3vc1qr5FJ+YDN8SpMysL7XOrY6mGVlZQTuRVSmrIl5oJuVFTm5HojuVei7dTz6f5NNkdldFc2shvFrkWiuVOs8ckkUzUTZz0YuzFe3lkRveiPQCTgAAAAAAAAAAAAAAAAAAAAAAAAAAAAAAAAAAAAAAAAAAAAAAAAAAAAAAAGLye/U+MY9cMgqoqiWKgp3zuZTQOnldsncyNvV6/AnVTKFf6l0yZJesYwiSnqH0tbXez6xyUbpIeyp/HRrpWvasLlejeVdlRdlQDJaYWWrtmMx3C6SrJcr091yrF90RqPl6o1rJFV0aI3lTkVei7kuAAAAAAAAAAiWra7aW5cvmSt9C4qHwePTgy0w+Tqn1yct3V5dtKsvXzHW+hcVH4PNNuDPTBPNtR65OBsUAAAAAAAAV3kMjcF1FtGRtnp6e0ZRK2zXBj5VY1K12/sWSONjF7SWRy9m5zlRGtYnUsQjuoVkkyHDLrbKeZYqh9O6SCRJnxKyVnjNXnZ4zU3RN1b1232AkQMLhl/iynFLVkEU0Mvs6lZK58LJGxq/bZ3KkrWvRvMi7cyIuxmgAAAAAAAAAAAAAAAAAAAAAAAAAAAAAAAAAAAAHzSpp16JPGv/ABIB9AdO1i/pG/2jtYv6Rv8AaB3B07WL+kb/AGnZHNVN0cip8Cgcg43T3xunvgcg4OQAAAAAAQO2U6XHWC7XKSCZPqVaoaOJ8ludG1e0cr3clRzKkieKm7eVOVduq7k8ILp/TN/hXm9e6PZ810ji5ltstKqtZEm3jvcrZ06/ZsRqeTboBOjjdN9t+ocqoiqibqid3vhETv2Tde9QDlRqczl2RO9Tk14vnF3RYvZdQaHJMDnp9QMMvUFitmIw3FJJcilrlRLTLSTLG3eKqVVRzuRVhWKfmR3Z7uuu/wCV2/C8Lr82zioprXRWS2yXK7SRyumipo4olkmVr1a1z2tRrtl5Gq7ZPFRV2AzgNeqriO1ZtGnP8eeQ6AQUOnbKRbzUomUdpklHZ9lelXLbUpPY6ObFtM+Fta57WcyeM9qxl+W240N4t1Ld7XVR1NHXQMqaeeNd2yxPajmvRfKioqKn9YHpAAEQ1gXbSjMF8x1voXFTeD1Tbg00w+TJ/W5i2NY/9U2Zbf7CrvQuKo8Hwm3Brpf8lzetTAbDgAAAa5ancVNfoJnuU4zqzZKWWhrrUy7abvtcUjJ8iqGq2GazuRzn71yVEkCsViI10U6O5W9m/cNjQRrBqvNIdP7PcNVls8GTpbY6i+ttUT2UUFTyc0rIkfJI5WMXdqOVy83LzbJvypTWC6j8S+s2AN1n06Zp9ZbDd0krcZxq9Wqtqa+5W9q7QyVFwjq4o6OSpRquRraWdIWvZusq8yIGxRwqbpspC9FtU7PrbpVjGqtio56OjySgZWJSzrvJTSbq2WFy9N1ZI17FXbry7k1AgmksvY0N/sC1cE62a+1dN7nNUSuY1ypK1r3TNTxuWVOjFVidEReiok7IJhkrmakZ9QdvTOYyW3VDWMrp5pWdpTqi88T2JHCiqzxUjc7m6q7Ze+dgAAAAAAAAAAAAAAAAAfKqm9jUs1Qjebso3P2379k32NZ9AvCD6Da436twaouyYnl9BWTUTrTdpWtbUujereanm6MkRdvsV5Xf+le8DZ0HCKioiou6L3KcgAAAAAAAAAAAAAHDmo9qtXfZU26GqieDa4f27ct+1HRU7lTMq/p/9htYANUfa29Cvvs1M+mVb/nHtbehX32amfTKt/zm1wA1R9rb0K++zUz6ZVv+cL4N3RHujzXVGNPebmVZt/8ALja4Aaoe1u6Kff1qn9Mqz/MPa3dFPv61T+mVZ/mNrwBqgvg3tF0T3PPtVGL76ZlWb/pHX2t7SD8JOrP0yqv8TbEAane1vaQfhJ1Z+mVV/iPa3tIPwk6s/TKq/wATbEAanL4OLSn7nVPVxqeREzCp6D2uLSr8K2rn0wqDbEAane1xaVfhW1c+mFQQeyeDm0wzCsyiyXvVfVB9Pbbs2OnbDfKyJUZ2aKnaLUI5kzt1Xx405dtk79zekgWJb0OpuY27kpmsqWUlc3k9lOkVVa5rlesnuKdybJF/xIBQtg8GfobZ+3dXZ5qtdnzciI+ozGpiWNrd9kTseTfv+63226bdd8v7XXoB/tvUr6c3H9obQHSRjnsVrZHRqv3Tdt0/tRUA/LjLeAr6vTZdr5imLajspcDvENJj2L3G6V6XnIrPRuelznifIvsmGWo7ST2GxnLv2DVcx/sjpemb+Dc0fzDSvIJMDu+olHfr/YpH2qO95PcEjjqnwKsDKqCVd9uZWo9kiKrU5k2TbY3WAH5mZHwvaZ5fpJU4VjOl/EFT6rXGhfaW2e71N7ZZ6G5tRzHzTXGVq2yWjY5jpEdHO/to+VsaK97Wl+4p4NDQXHcct9lnyLUWealgayaWHMK2njfJt4zmxxva1iK7dURE6J7/AHm2wA1UrvBscPNwkp5Zr3qVvTP7Rn+mla/rui973Kqd3e3ZfhPUvg6eH9zVat61KVFTZd84uP7Q2hAH55am+Cc0MsuGZDlsep2qFTWWu11NXE2pvEEjXOjjVyNdvBuqdNlTdCKcKPg4NKtW+HfCNRrzqdqZba+90Ek81Nbb2yKmick8jdo2LEvKmzU6br13P0F1oXbSLNF8w13oHlXeD9Tbg40v+SpPWZgIdH4O3GIadtLFxGa2sjYxI27ZO3dERNk69kYb2sTDF6rxM69/S1v7E3OAGmPtYmF/jM69/S1v7EgFT4NjK8xyPLo7jrNq1abfisFNFpxX3fMUr5n3ZsTnPubmx7+x4WvcyJkbeSVUbK7dnMxE/Q068vjK7deqbbb9ANQtPOCb+FOnNmr9UNTNe8byOvt7UvdlXU+oqoqaoVOWVjXxvfG+NV3VvjL4rkR3XdCm7PwUat4fhddpg7+Pu6XeijW0WS92HVGjosUfT7J7GqZKaWdtZSsjR+00DKadEWJ/Zdojmn6RgDRbC/BX2CwYlarRcOJrWamr6eljSsbZcibS0KVKpzSrBEsSqyNZFcqIqqvXqqqZv2snGvxqeIH6XN/Ym5wA0mx3geo7jmOT46ziX1sjbY20LPZTcxpJpZ3SROcqSRJT88StRG7K9V50duncpKPa/aT8afXT6RQfsC+NN5Er7vmV6a+peypvbqeN0tRSzMVkMTGe5rC1HNbzI7xJVV6LzdybITkDU/6wFPJxZa7onkRMgpun/Lj6wH/e014+kFN+7G2AA1P+sB/3tNePpBTfuwTgElZ/NcXOvLPf2v8ASrv/AG0xtgANUPrB6v8AG/16/P1J+7D6wer/ABv9evz9SfuxteANUE4CKxF3TjA16RU7v/PqT92H1h98/HI12/PNJ+7m14A1Q+sPvn45Gu355pP3cfWH3z8cjXb880n7ubXgDVBeBTJ2dIOM7XNie867Uq/9hDj6xbLvx0tcfzpS/sDbAAakV/A1lsNDUyrxn64PRkL3cq3Sl2XxV6L7h3H5T6OcDvEDxC6i3WLB7TVUlmo7vURT5TdldDA3llVFkRyJvLJ032Ynf73ef0HOajmq1yIqKmyovlPjR0VHb6dtJQUkNNAzfljiYjGpv1XZE6AV3w9aRXjRHTG2YDfdSL5m1XRN8e5XVyK5On83GnVWxp5EVXL8JZYAAAAAAAAAAAAAAAAAAAAAAAAAAAAAAAAAAgd/VbLqpjt2WOPsbxSz2uR6y1Tno9PdGI2Nu8DU6Lu9+zvIir3E8IlqlYau+4fUraoqZ9ztr2XK3+yZKhsKVEK87VelO5sj06L4qboq7IqL3AS0GLxi+QZLj9BfaeOWNlbAyXklidG9iqnVHMd1aqL5F6oZQAAAAAAAACF61rto/mq+YK70DysPB/ptwc6X/JMnrEpZutq7aO5svmCv9A8rPgCTbg60u+SH+sSgbBAAAAAAAAHhvl1pbFZq681s0cUFDTyVEj5JGsa1rWqqqrndE7u9eh7iAap1sl2ls+mttrJ4a7I6jtal1LPAyent0DmunmRk7HslYr1hiezl3Vs6qm226BkdKrdUW/BrdJWrVeyq9H18/spKftUfM5X7OdTokTlRHInM3vREVVVepLjpFFHBEyGGNsccbUaxjU2RqJ0RETyIdwAAAAAAAAAAAAAAAAAAAAAAAAAAAAAAAAAAAAAAAAAAAAAAAAAAAAAAAAK6xpYsAzSrw6SOmpbRfJH11pVkPZMSocqrNCr3yOWWVy7v6IiIhYpHc6xGPMLG+hhrprdcIVSWhuNMyJamlkRUXeJ0jXIxXInKqom/K5T4YJltRkNHNQXqkSivlskWnr6ZFVWJIn3UblRO0Ztt4yJtvuBKQAAAAAAAQjW/po3m/wA36/0DytuARNuDvS75Hd6eUsjXJdtGc5X4vV/oHlccA6bcHulyeZl9PIBf4AAAAAAAPnPPFTQSVEzuWOJqvcvvIhBtN2VORXC6ak1q1TGXnkgttPJO90cVFEruWRIXsa6CWRXL2ibqi8jPePDlMv8AGle5dPbc6GXHaGTkyaVzXOZUpyva63o5j2PilRywy86bpyoqeUsljGxsbGxNmtRERPeQDsAAAAAAAAAAAAAAAAAAAAAAAAAAAAAAAAAAAAAAAAAAAAAAAAAAAAAAAAAABDM0wysq7jBmuJSR0uR0EaMVysRfqhTMR7konucuzGOe5FVyJumxMwBHMOzSiyqmfE+NaO6UirHWUUviyRvauznNRero+bdGv22XboSMiWW4FDe66LI7HWvtGQUysVtbTojXVUcbZOSmnXZVdBzycytTr0Qx9n1HktlfFjOotMy0XRY5ZI6telFVRxLG18ySL4sSK+VqNY9Ucvk3AnoOEVFTdF3RTkAAAINrp/qXzr5vV/oHld8BKbcH2lyeZf8AvSFh67rtorna/F24egeV7wFptwf6W/IielkAvwAAADwXy+2jGrTV32+18VFQUED6mpnlXZscTGq5zl8uyIiqoHvIDkmWXXIbtPg2APiWtge1t0uMjVWCgRr4XPgcibL2kkD38jk3RFTde4+E91zDUWdaTGkmsNgjmjdJc5okWWtYyVrnMiYq7LDLFuiSdFTfohMMZxmzYhZaXH7DSrBR0caRRtdI6R6tTu5nuVXOX4VVVA4xbGbbiFjpLBa1nfDSRtjSWolWWeXZNuaSRer3L5XL1UywAAAAAAAAAAAAAAAAAAAAAAAAAAAAAAAAAAAAAAAAAAAAAAAAAAAAAAAAAAAAAAAPFebLaMits1nvtup6+hqOXtaeojR8b+VyObui9F2c1F/rRD2gCAR4ZmOJSK7CckdV0CugT6nXZyyoxFnkfUSNl+y5nMe1jGr4reRDtS6rRW98VJnmN3LG6l7qOHtJI1npHz1CSqkbJmIqeIkK87nI1reZvXqT06yRxysdHKxr2OTZWuTdFT4UA8FlyGw5HSsrrBeaK4wSxRzskpp2yIsb0VWP6L3ORFVF8u3QyJEK7SXT+trFuMeOwUVWstLM6aiVadznUzJGQb8myKjGyvRE7k5jx0umFVbHRpadQclhiiZRRMhmqu3ajKdr0VPHTfeTnRXr3ryNA4156aJ54vxduHoHkA4Dk24QNLfkNvpXn31ww3PKTRTNFk1QrJ44MYlZI2Shh3mWKOZ0zlVE6LK1zWrt3ciKnepD+CjFMnuXCxpZWU2e19BRpYKf/wAJBBHtzNqpXuXmVN/GYrWKnvN3TqBtIR+9Z9hmPSxU92ySghnnljhjhSVHyufI5WsTkbuqIrkVEVU238pg6fSOgeymbfMsyW7rTI3b2TcXojntndK16o3ZFVObk+FrURTNY/p7hOLRsjsOM0FL2bXMa9Ikc9GukWRU5l3Xbncq9/eoGApM9yzLkp34Zh1VTUM6tV1feGrT8rFV7H8sS+Nztc1q7L0VFPvaNMkqKukvuf3eTI7tTNR0faJyUtPKsfZyOhhToiPb3o7dCdADqxjI2NjjYjWNRGta1NkRE7kRDsAAAAAAAAAAAAAAAAAAAAAAAAAAAAAAAAAAAAAAAAAAAAAAAAAAAAAAAAAAAAAAAAAAAAAAAAABAdfl20Oz5fi3cfV3kF4E024Q9LfkGP8ATeTniBXbQzUBfi3cfV3kI4FU24RNLPkCP9N4F7AAAAAAAAAAAAAAAAAAAAAAAAAAAAAAAAAAAAAAAAAAAAAAAAAAAAAAAAAAAAAAAAAAAAAAAAAAAAAAAAr7iEXbQrUFfi1cfV3kL4GE24RdLE8wRfpOJnxDLtoPqEvxZuPq7yG8DSbcI2lifF+H9JwF6AAAAAAAAAAAAAAAAAAAAAAAAAAAAAAAAAAAAAAAAAAAAAAAAAAAAAAAAAAAAAAAAAAAAAAAAAAAAAAAArziJ6aC6hr8Wbl6u8iHA6m3CRpZ83oP73Eu4i120D1EX4sXL1d5EuB/pwk6V/N2n/6gXiAAAAAAAAAAAAAAAAAAAAAAAAAAAAAAAAAAAAAAAAAAAAAAAAAAAAAAAAAAAAAAAAAAAAAAAAAAAAAAACueI7poDqKvxYuXq7yK8EKbcJWlfzcpv+pKeJDpw/ajr8V7l6u8jHBJ9qXpX826b+5QLuAAAAAAAAAAAAAAAAAAAAAAAAAAAAAAAAAAAAAAAAAAAAAAAAAAAAAAAAAAAAAAAAAAAAAAAAAAAAAAABW/Emu3D5qQvxWufq7yNcE6bcJmlfzapf7lJJxKrtw9akr8Vrn6s8jnBT04TdKvmzSfogXYAAAAAAAAAAAAAAAAAAAAAAAAAAAAAAAAAAAAAAAAAAAAAAAAAAAAAAAAAAAAAAAAAAAAAAAAAAAAAAACtOJhduHjUpfirc/VnmA4K024T9Kk+LFH+gZ7ibXbh21K+atz9XeYPgvTbhR0qT4sUX6AF0AAAAAAAAAAAAAAAAAAAAAAAAAAAAAAAAAAAAAAAAAAAAAAAAAAAAAAAAAAAAAAAAAAAAAAAAAAAAAAAArLidXbh11LX4rXL1d5heDJNuFPSpPivRejQzHFAu3DnqX81rl6u8xPBqm3CppV81qH0aAXKAAAAAAAAAAAAAAAAAAAAAAAAAAAAAAAAAAAAAAAAAAAAAAAAAAAAAAAAAAAAAAAAAAAAAAAAAAAAAAACr+KJduHHUxfitcvQPMZwcJtwraVJ8VqD0SEl19xq+ZnolnWJ4zQLW3a72CtoqKmSRkayzSROaxvM9Ua3dVRN3Kie+p4uGnEchwLQDT/AAvLbatvvNlx+joq6lWVkiwzMjRHM5o3OY7ZfK1VT4QLLAAAAAAAAAAAAAAAAAAAAAAAAAAAAAAAAAAAAAAAAAAAAAAAAAAAAAAAAAAAAAAAAAAAAAAAAAAAAAAAAAAAAAAAAAAAAAAAAAAAAAAAAAAAAAAAAAAAAAAAAAAAAAAAAAAAAAAAAAAAAAAAAAAAAAAAAAAAAAAAAAAAAAAAAAAAAAAAAAAAAAAAAAAAAAAAAAAAAAAAAAAAAAf/2Q==)\n",
        "$$ $$\n",
        "\n",
        "d)\n",
        "$|polos|<1$, o sistema é estável"
      ],
      "metadata": {
        "id": "nyNXujJ1_o09"
      },
      "id": "nyNXujJ1_o09"
    },
    {
      "cell_type": "code",
      "execution_count": null,
      "id": "d41bd68b-9b8a-499b-aafd-bf954364bec6",
      "metadata": {
        "id": "d41bd68b-9b8a-499b-aafd-bf954364bec6"
      },
      "outputs": [],
      "source": []
    }
  ],
  "metadata": {
    "kernelspec": {
      "display_name": "Python 3 (ipykernel)",
      "language": "python",
      "name": "python3"
    },
    "language_info": {
      "codemirror_mode": {
        "name": "ipython",
        "version": 3
      },
      "file_extension": ".py",
      "mimetype": "text/x-python",
      "name": "python",
      "nbconvert_exporter": "python",
      "pygments_lexer": "ipython3",
      "version": "3.10.11"
    },
    "colab": {
      "provenance": []
    }
  },
  "nbformat": 4,
  "nbformat_minor": 5
}