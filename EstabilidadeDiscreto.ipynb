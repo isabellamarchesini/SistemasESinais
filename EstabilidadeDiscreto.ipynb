{
  "cells": [
    {
      "cell_type": "markdown",
      "id": "e9f52f5f-3621-412d-b389-32d63e6a62ee",
      "metadata": {
        "id": "e9f52f5f-3621-412d-b389-32d63e6a62ee"
      },
      "source": [
        "# Estabilidade de sistemas discretos\n",
        "\n",
        "Renato Naville Watanabe"
      ]
    },
    {
      "cell_type": "markdown",
      "id": "9d3a5755-c621-48f1-bcd4-15cf39576d7a",
      "metadata": {
        "jp-MarkdownHeadingCollapsed": true,
        "id": "9d3a5755-c621-48f1-bcd4-15cf39576d7a"
      },
      "source": [
        "## Definição\n",
        "\n",
        "Como já visto anteriormente, formalmente podemos definir um **sistema estável** como sendo um sistema que se receber uma entrada que tenha valores finitos:\n",
        "\n",
        "$$|x[n]| < B \\text{ ,para qualquer } n $$\n",
        "\n",
        "em que $B$ é um número real finito, então a saída também terá valores finitos:\n",
        "\n",
        "$$|y[n]| < L \\text{ .para qualquer } n$$\n",
        "\n",
        "em que $L$ é um outro número real finito.\n",
        "\n",
        "Um sistema que não respeita o critério acima é chamado de **sistema instável**, de acordo com o critério **BIBO** (*Bounded Input Bounded Output*; )."
      ]
    },
    {
      "cell_type": "markdown",
      "id": "4f1c4f06-407b-4e34-af9e-99686046472c",
      "metadata": {
        "jp-MarkdownHeadingCollapsed": true,
        "id": "4f1c4f06-407b-4e34-af9e-99686046472c"
      },
      "source": [
        "## Resposta ao impulso\n",
        "\n",
        "Vamos aqui estabelecer um critério para determinar a estabilidade de um sistema linear e invariante no tempo a partir da resposta ao impulso. Vamos começar da obtenção do sinal de saída $y[n]$ em resposta a um sinal de entrada $x[n]$ a partir da integral de convolução:\n",
        "\n",
        "$y[n] = \\displaystyle\\sum_{k=-\\infty}^\\infty h[k]x(n-k)$\n",
        "\n",
        "Como o critério de estabilidade diz que $|y[n]| < L$ se o sistema for estável, vamos calcular o módulo de $y[n]$:\n",
        "\n",
        "$|y[n]| = |\\displaystyle\\sum_{k=-\\infty}^\\infty h[k]x(n-k)|$\n",
        "\n",
        "Como o critério de estabilidade envolve uma desigualdade, podemos estabelecer um limite superior para o módulo de $y[n]$:\n",
        "\n",
        "$|y[n]| \\leq \\displaystyle\\sum_{k=-\\infty}^\\infty |h[k]x(n-k)| = \\displaystyle\\sum_{k=-\\infty}^\\infty |h[k]||x(n-k)|$\n",
        "\n",
        "Pelo critério de estabilidade o módulo de $x[n]$ é limitado ao valor de $B$. Então:\n",
        "\n",
        "$|y[n]| \\leq \\displaystyle\\sum_{k=-\\infty}^\\infty |h[k]|B = B\\displaystyle\\sum_{k=-\\infty}^\\infty |h[k]|$\n",
        "\n",
        "Então, para $|y[n]|< L$, com $L$ finito, temos que a somatória do módulo da resposta ao impulso tem que ser finita:\n",
        "\n",
        "$\\displaystyle\\sum_{k=-\\infty}^\\infty |h[k]|<\\infty$\n",
        "\n",
        "Portanto, se a integral do módulo da resposta ao impulso for finita (também pode se dizer que é **absolutamente somável**), o sistema é estável.\n",
        "\n",
        "---\n",
        "### Exemplo 1\n",
        "\n",
        "Vamos considerar um sistema com resposta ao impulso:\n",
        "\n",
        "$h[n] = (0.5)^nu[n]$\n",
        "\n",
        "A integral do módulo de $h[n]$ é:\n",
        "\n",
        "$\\displaystyle\\sum_{k=-\\infty}^\\infty |h[k]| = \\displaystyle\\sum_{k=-\\infty}^\\infty |(0.5)^ku[k]| = \\displaystyle\\sum_{k=0}^\\infty (0.5)^k = \\frac{1}{1-0.5} = 2$\n",
        "\n",
        "Portanto, o sistema com essa resposta ao impulso é estável.\n",
        "\n",
        "---\n",
        "\n",
        "---\n",
        "### Exemplo 2\n",
        "\n",
        "Vamos considerar um sistema com resposta ao impulso:\n",
        "\n",
        "$h[n] = (5)^nu[n]$\n",
        "\n",
        "A integral do módulo de $h[n]$ é:\n",
        "\n",
        "$$\\displaystyle\\sum_{k=-\\infty}^\\infty |h[k]| = \\displaystyle\\sum_{k=-\\infty}^\\infty |(5)^ku[k]| = \\displaystyle\\sum_{k=0}^\\infty (5)^k = \\infty$$\n",
        "\n",
        "Portanto, o sistema com essa resposta ao impulso é instável.\n",
        "\n",
        "---\n"
      ]
    },
    {
      "cell_type": "markdown",
      "id": "c4bdd737-f4c8-4d7d-b2fa-16c92c823068",
      "metadata": {
        "id": "c4bdd737-f4c8-4d7d-b2fa-16c92c823068"
      },
      "source": [
        "## Função de transferência\n",
        "\n",
        "As funções de transferência dos sistemas encontrados na prática tem o formato abaixo:\n",
        "\n",
        "$H(z) = \\frac{Y(z)}{X(z)} = \\frac{b_Mz^M +...+b_2z^2+b_1z + b_0}{z^N + a_{N-1}z^{N-1}+...+a_0}$\n",
        "\n",
        "Como já visto anteriormente, elas podem ser reescritas na forma de polos e zeros:\n",
        "\n",
        "$H(z) = \\frac{G(z-z_1)(z-z_2)...(z-z_M)}{(z-p_1)(z-p_2)...(z-p_N)}$\n",
        "\n",
        "Vamos agora analisar a estabilidade de acordo com o número de polos e zeros:"
      ]
    },
    {
      "cell_type": "markdown",
      "id": "941f4550-ae16-474c-a279-b7af831895fe",
      "metadata": {
        "id": "941f4550-ae16-474c-a279-b7af831895fe"
      },
      "source": [
        "### Caso em que $M<N$ com polos diferentes\n",
        "\n",
        "Quando $M<N$, podemos expandir a função de transferência como:\n",
        "\n",
        "$H(z) = \\frac{A_1}{z-p_1}+\\frac{A_2}{z-p_2}+...\\frac{A_N}{z-p_N}$\n",
        "\n",
        "Com isso a resposta ao impulso do sistema é:\n",
        "\n",
        "$h(t) = A_1p_1^n + A_2p_2^n+...+A_Np_N^n$\n",
        "\n",
        "Para a resposta ao impulso ser absolutamente somável, o módulo de todos os polos deverão ser menores do que 1.\n",
        "\n",
        "Portanto, se todos os polos do sistema tiverem módulo menor do que um, o sistema será estável.\n",
        "\n"
      ]
    },
    {
      "cell_type": "markdown",
      "id": "e3586558-6dfa-4f6d-841c-2b149810d7ac",
      "metadata": {
        "id": "e3586558-6dfa-4f6d-841c-2b149810d7ac"
      },
      "source": [
        "### Caso em que M < N com polos repetidos"
      ]
    },
    {
      "cell_type": "markdown",
      "id": "6118a79f-f371-4dec-86a6-2737fd0ba035",
      "metadata": {
        "tags": [],
        "id": "6118a79f-f371-4dec-86a6-2737fd0ba035"
      },
      "source": [
        "Quando $M<N$, e algum polo é repetido podemos expandir a função de transferência como:\n",
        "\n",
        "$H(z) = \\frac{B_1}{z-p_1} + \\frac{B_2}{(z-p_1)^2}+...+\\frac{B_r}{(z-p_1)^r}+\\frac{A_{r+1}}{z-p_{r+1}}+...\\frac{A_N}{z-p_N}$\n",
        "\n",
        "Com isso a resposta ao impulso do sistema é:\n",
        "\n",
        "$h[n] = B_1p_1^n+B_2np_1^n+...+B_rn^{r-1}p_1^n + A_{r+1}p_{r+1}^n+...+A_Np_N^n$\n",
        "\n",
        "Para a resposta ao impulso ser absolutamente somável, o módulo de todos os polos deverão ser menor do que 1.\n",
        "\n",
        "Portanto, se todos o módulo de todos os polos do sistema tiverem módulo menor do que um, o sistema será estável.\n"
      ]
    },
    {
      "cell_type": "markdown",
      "id": "bbb67374-4729-4261-ab90-13c5787fc9b9",
      "metadata": {
        "id": "bbb67374-4729-4261-ab90-13c5787fc9b9"
      },
      "source": [
        "### Caso em que $M=N$\n",
        "\n",
        "Quando $M=N$, podemos expandir a função de transferência como:\n",
        "\n",
        "$H(z) = A + \\frac{A_1}{z-p_1}+\\frac{A_2}{z-p_2}+...\\frac{A_N}{z-p_N}$\n",
        "\n",
        "Com isso a resposta ao impulso do sistema é:\n",
        "\n",
        "$h[n] = A\\delta[n] + A_1p_1^n + A_2p_2^n+...+A_Np_N^n$\n",
        "\n",
        "Para a resposta ao impulso ser absolutamente somável, o módulo de todos os polos deverão ser menor do que 1 (o impulso acrescenta apenas o valor 1 na soma).\n",
        "\n",
        "Portanto, se todos os polos do sistema tiverem módulo menor do que um, o sistema será estável.\n"
      ]
    },
    {
      "cell_type": "markdown",
      "id": "5cf4f217-25e0-440b-a09f-e24b02660089",
      "metadata": {
        "id": "5cf4f217-25e0-440b-a09f-e24b02660089"
      },
      "source": [
        "Portanto, de uma maneira geral, **se os polos do sistema tiverem módulo menor do que 1, o sistema é estável**.\n",
        "\n",
        "\n",
        "---\n",
        "\n",
        "### Exemplo 3\n",
        "\n",
        "Considere um sistema com a seguinte função de transferência:\n",
        "\n",
        "$H(s) = \\frac{1+z^{-1}}{1 - 4z^{-1} + 5z^{-2}} = \\frac{z^2+z}{z^2 - 4z^ + 5}$\n",
        "\n",
        "Os polos desse sistema são $p_1 = 2+j$ e $p_2 = 2-j$. Os módulos desses polos são $\\sqrt{3}>1$. Portanto o sistema é instável.\n",
        "\n",
        "<img src=https://github.com/rnwatanabe/SistemasESinais/blob/master/Imagens/exemploestabdisc.png?raw=1 width=\"400\">\n",
        "\n",
        "---"
      ]
    },
    {
      "cell_type": "markdown",
      "id": "7dd317a6-cd7e-4bf7-9deb-64f47697a31a",
      "metadata": {
        "id": "7dd317a6-cd7e-4bf7-9deb-64f47697a31a"
      },
      "source": [
        "---\n",
        "\n",
        "### Exemplo 4\n",
        "\n",
        "Considere um sistema com a seguinte função de transferência:\n",
        "\n",
        "$H(s) = \\frac{1-4z^-1}{1 + z^{-2}}=\\frac{z^2-4z}{z^2 + 1}$\n",
        "\n",
        "Os polos desse sistema são $p_1 =j$ e $p_2 = -j$. O módulo dos polos são iguais a 1. Portanto o sistema é instável.\n",
        "\n",
        "<img src=https://github.com/rnwatanabe/SistemasESinais/blob/master/Imagens/exemplo4estabdisc.png?raw=1 width=\"400\">\n",
        "\n",
        "---"
      ]
    },
    {
      "cell_type": "markdown",
      "id": "dece7a28-cf04-4e0c-a5a6-d8bd03a353c4",
      "metadata": {
        "id": "dece7a28-cf04-4e0c-a5a6-d8bd03a353c4",
        "jp-MarkdownHeadingCollapsed": true
      },
      "source": [
        "---\n",
        "\n",
        "### Exemplo 5\n",
        "\n",
        "Considere um sistema com a seguinte função de transferência:\n",
        "\n",
        "$H(s) =\\frac{1+z^{-1}-0.2z{^-2}}{1 +0,1z^{-1} - 0,2z^{-2}} = \\frac{z^2+1z-0.2}{z^2 +0,1z - 0,2}$\n",
        "\n",
        "Os polos desse sistema são $p_1 =0,2$ e $p_2 = -0,1$. O módulo dos polos são menores do que. Portanto o sistema é estável.\n",
        "\n",
        "<img src=https://github.com/rnwatanabe/SistemasESinais/blob/master/Imagens/exemplo5estabdisc.png?raw=1 width=\"400\">\n",
        "\n",
        "---"
      ]
    },
    {
      "cell_type": "markdown",
      "id": "ee7f5361-3fd1-4b79-b798-ca5e853bee4e",
      "metadata": {
        "id": "ee7f5361-3fd1-4b79-b798-ca5e853bee4e"
      },
      "source": [
        "Portanto, de uma maneira geral, **se os polos do sistema tiverem módulo menor do que 1, o sistema é estável**.\n"
      ]
    },
    {
      "cell_type": "markdown",
      "id": "253fb35f-46ff-4088-aeb7-b788b7707f1c",
      "metadata": {
        "id": "253fb35f-46ff-4088-aeb7-b788b7707f1c"
      },
      "source": [
        "## Realimentação\n",
        "\n",
        "Quando encontramos sistemas instáveis, é muito comum querermos fazer com que o sistema se comporte de maneira estável. A maneira tradicional de fazer isso é utilizando uma realimentação.\n",
        "\n",
        "<img src=https://github.com/rnwatanabe/SistemasESinais/blob/master/Imagens/realimentacaodisc.png?raw=1 width=\"600\">\n",
        "\n",
        "Nesse tipo de ligação de sistemas, o sinal $x[n]$ é calculado usando o sistema controlador a partir do sinal $e[n] = r[n]-y[n]$\n",
        "\n",
        "---\n",
        "\n",
        "### Exemplo 4\n",
        "\n",
        "Vamos considerar um sistema com a seguinte equação de diferenças:\n",
        "\n",
        "$y[n] = 3y[n-1] + x[n]$\n",
        "\n",
        "\n",
        "A função de transferência desse sistema é:\n",
        "\n",
        "$H(z) = \\frac{z}{z-3}$\n",
        "\n",
        "O polo desse sistema é 3. Ou seja, o sistema é instável.\n",
        "\n",
        "Para estabilizar esse sinal, podemos calcular o sinal $x[n]$ a partir de $e[n]=r[n]-y[n]$\n",
        "\n",
        "Se escolhermos o sistema controlador como:\n",
        "\n",
        "$x[n] = 2.5e(t)$\n",
        "\n",
        "Se fizermos isso $X(z) = 2.5E(z)$.\n",
        "\n",
        "Então:\n",
        "\n",
        "$Y(z) = \\frac{z}{z-3}2.5E(z) = \\frac{2.5z}{z-3}(R(z)-Y(z)) \\rightarrow Y(z)\\left(1 + \\frac{2.5z}{z-3}\\right) = \\frac{2.5z}{z-3}R(z) \\rightarrow \\frac{Y(z)}{R(z)} = \\frac{\\frac{2.5z}{z-3}}{\\frac{3.5z-3}{z-3}} = \\frac{2.5z}{3.5z-3} = \\frac{0.71z}{z-0.85}$\n",
        "\n",
        "Com a realimentação, a função de transferência entre $r[n]$ e $y[n]$ é:\n",
        "\n",
        "$H_2(z) = \\frac{0.71z}{z-0.85}$\n",
        "\n",
        "O polo desse novo sistema é 0,85, e consequentemente, o sistema resultante é estável.\n",
        "\n",
        "---\n",
        "Mais detalhes sobre esse tipo de sistema podem ser vistos em disciplinas de Controle como a disciplina *Análise e Controle de Sistemas Mecânicos*.\n"
      ]
    },
    {
      "cell_type": "markdown",
      "id": "8d275974-1b35-46c7-abc9-3223d88a8189",
      "metadata": {
        "id": "8d275974-1b35-46c7-abc9-3223d88a8189"
      },
      "source": [
        "## Exercícios"
      ]
    },
    {
      "cell_type": "markdown",
      "id": "3ce6f682-3249-48d9-9613-8fc6fda4f968",
      "metadata": {
        "id": "3ce6f682-3249-48d9-9613-8fc6fda4f968"
      },
      "source": [
        "**1)** Indique se os sistemas que geraram as seguintes respostas ao impulso são ou não são estáveis:\n",
        "\n",
        "a) $h_1[n] = 3^nu[n]$\n",
        "\n",
        "b) $h_2[n] = u[n]- u[n-10]$\n",
        "\n",
        "c) $h_3[n] = 5^nu[-n-2]$\n",
        "\n",
        "d) $h_4[n] = \\mathrm{sen}\\left(\\frac{\\pi n}{3}\\right)u[n]$\n",
        "\n"
      ]
    },
    {
      "cell_type": "markdown",
      "id": "98e8915d-f88d-42c8-9a5f-7b70704cb002",
      "metadata": {
        "id": "98e8915d-f88d-42c8-9a5f-7b70704cb002"
      },
      "source": [
        "**2)** Indique se os sistemas que geraram as seguintes respostas ao impulso são ou não são estáveis:\n",
        "\n",
        "a) $h_5[n] = 0.5^{|n|}\\cos\\left(\\frac{\\pi n}{4}+\\frac{\\pi}{4} \\right)$\n",
        "\n",
        "b) $h_6[n] = 3u[n+2] - u[n] - u[n-2]$\n",
        "\n",
        "c) $h_7[n] = n\\cos\\left(\\frac{\\pi n}{4} \\right)u[n]$\n",
        "\n",
        "d) $h_8[n] = 3^nu[-n+10]$"
      ]
    },
    {
      "cell_type": "markdown",
      "id": "32df6846-7919-43ff-85da-405698aa9186",
      "metadata": {
        "id": "32df6846-7919-43ff-85da-405698aa9186"
      },
      "source": [
        "**3)** Um sistema linear e invariante no tempo tem a seguinte resposta quando a entrada é um degrau:\n",
        "\n",
        "$y[n] = (0.5)^n u[n] + (-0.75)^nu[n]+u[n]$\n",
        "\n",
        "a) Determine a sua resposta ao impulso.\n",
        "\n",
        "b) Determine a equação de diferenças desse sistema.\n",
        "\n",
        "c) Faça o diagrama de polos e zeros do sistema.\n",
        "\n",
        "d) Determine se esse sistema é estável."
      ]
    },
    {
      "cell_type": "markdown",
      "id": "b8f03d70-6871-4325-84dd-0891c2116e2b",
      "metadata": {
        "id": "b8f03d70-6871-4325-84dd-0891c2116e2b"
      },
      "source": [
        "**4)** É aplicada a seguinte entrada a um sistema linear e invariante no tempo:\n",
        "\n",
        "$x[n] = 2(0.3)^nu[n]$\n",
        "\n",
        "e a saída para essa entrada é:\n",
        "\n",
        "$y[n] = 0.5(0.3)^nu[n] + 2(-0.6)^nu[n] + (1.2)^nu[n]$\n",
        "\n",
        "a) Qual a resposta ao impulso desse sistema?\n",
        "\n",
        "b) Qual o diagrama de polos e zeros desse sistema?\n",
        "\n",
        "c) Esse sistema é estável?\n",
        "\n"
      ]
    },
    {
      "cell_type": "markdown",
      "id": "1166ddfa-0280-4d8f-a79b-7d1112071839",
      "metadata": {
        "id": "1166ddfa-0280-4d8f-a79b-7d1112071839"
      },
      "source": [
        "**5)** Faça o diagrama de polos e zeros e determine se os sistemas abaixo são estáveis ou não.\n",
        "\n",
        "a) $H(z) = \\frac{1 + 0.2z^{-1}-9z^{-2}-1,8z^{-3}}{1+0.81z^{-2}}$\n",
        "\n",
        "b) $y[n] = 0.2y[n-1]-0.4y[n-2]+x[n]-0.2x[n-1]$\n",
        "\n",
        "c) $h[n] = n(0.3)^nu[n] + 2(0.3)^nu[n]$\n",
        "\n",
        "d) $H(z) = \\frac{z^2-7z+6}{z^2-5z+6}$"
      ]
    },
    {
      "cell_type": "markdown",
      "id": "7059c893-399a-4fd5-8d33-9843ffa8e875",
      "metadata": {
        "id": "7059c893-399a-4fd5-8d33-9843ffa8e875"
      },
      "source": [
        "**6)** Faça o diagrama de polos e zeros dos sistemas abaixo. Os sistemas abaixo são estáveis?\n",
        "\n",
        "\n",
        "a)\n",
        "\n",
        "<img src=https://github.com/rnwatanabe/SistemasESinais/blob/master/Imagens/ex6estaba.png?raw=1 width=\"600\">\n",
        "\n",
        "b)\n",
        "\n",
        "<img src=https://github.com/rnwatanabe/SistemasESinais/blob/master/Imagens/ex6estabb.png?raw=1 width=\"600\">\n",
        "\n",
        "c)\n",
        "\n",
        "<img src=https://github.com/rnwatanabe/SistemasESinais/blob/master/Imagens/ex6estabc.png?raw=1 width=\"600\">"
      ]
    },
    {
      "cell_type": "markdown",
      "id": "325fd1c8-90a6-4eba-bb89-ae6292509eba",
      "metadata": {
        "id": "325fd1c8-90a6-4eba-bb89-ae6292509eba"
      },
      "source": [
        "**7)** Considere o sistema abaixo:\n",
        "\n",
        "<img src=https://github.com/rnwatanabe/SistemasESinais/blob/master/Imagens/ex7estab.png?raw=1 width=\"600\">\n",
        "\n",
        "a) Encontre a função de transferência do sistema.\n",
        "\n",
        "b) Faça o diagrama de polos e zeros.\n",
        "\n",
        "c) O sistema é estável?"
      ]
    },
    {
      "cell_type": "markdown",
      "id": "937d5565-27a8-4e36-b183-f1602d8c8d7e",
      "metadata": {
        "id": "937d5565-27a8-4e36-b183-f1602d8c8d7e"
      },
      "source": [
        "**8)** Um sistema tem a seguinte resposta ao impulso:\n",
        "\n",
        "$h[n] = 2^nu[n] - (0.5)^nu[n] $\n",
        "\n",
        "Encontre uma constante $K$ de um sistema controlador que calcule a entrada do sistema da seguinte forma\n",
        "\n",
        "$x[n] = Ke[n] = K(r[n]-y[n])$\n",
        "\n",
        "para que o sistema com $r[n]$ na entrada e $y[n]$ na saída seja estável."
      ]
    },
    {
      "cell_type": "markdown",
      "id": "848d1a34-69de-4e09-b47e-d4d5f6af3f43",
      "metadata": {
        "id": "848d1a34-69de-4e09-b47e-d4d5f6af3f43"
      },
      "source": [
        "## Referências\n",
        "\n",
        "- Ulaby, FT e Yagle, AE, Signals & Systems: Theory and Applications, 2018, [ss2.eecs.umich.edu](ss2.eecs.umich.edu)\n",
        "\n",
        "- Oppenheim, A.  e Willsky, S., Sistemas e Sinais, 2010\n",
        "\n",
        "- Lathi, BP, Sinais e Sistemas Lineares, 2007\n",
        "\n",
        "- Ogata, K. Engenharia de controle moderno. 4a ed. Prentice Hall, 2003\n",
        "\n",
        "- Oppenheim, A., Shafer, R, Processamento em tempo discreto de sinais, 2013"
      ]
    },
    {
      "cell_type": "markdown",
      "source": [],
      "metadata": {
        "id": "7YB9ASC-MpS-"
      },
      "id": "7YB9ASC-MpS-"
    },
    {
      "cell_type": "markdown",
      "source": [
        "**3)** Resolvido por ISABELLA MARCHESINI\n",
        "\n",
        "$y[n] = (0.5)^n u[n] + (-0.75)^nu[n]+u[n]$\n",
        "\n",
        "a)\n",
        "$Y(z)=\\frac{z}{z-0.5}+\\frac{z}{z+0.75}+\\frac{z}{z-1}=\\frac{3z^3-1.5z^2-0.625z}{(z-0.5)(z+0.75)(z-1)}$\n",
        "\n",
        "$H(z)=\\frac{3z^3-1.5z^2-0.625z}{(z-0.5)(z+0.75)(z-1)}.\\frac{(z-1)}{z}=\\frac{3z^2-1.5z-0.625}{(z-0.5)(z+0.75)}=\\frac{3(z-0.792)(z+0.292)}{(z-0.5)(z+0.75)}$\n",
        "\n",
        "$H'(z)=\\frac{H(z)}{z}=\\frac{3(z-0.792)(z+0.292)}{z(z-0.5)(z+0.75)}=3(\\frac{A_1}{z}+\\frac{A_2}{z-0.5}+\\frac{A_3}{z+0.75})$\n",
        "\n",
        "$A_1=3(\\frac{(-0.792)(0.292)}{(-0.5)(0.75)})=1.85$\n",
        "\n",
        "$A_2=3(\\frac{(0.292)(-0.792)}{0.5(1.25)})=-1.11$\n",
        "\n",
        "$A_3=3(\\frac{(-1.592)(-0.458)}{(-0.75)(-1.25)})=2.31$\n",
        "\n",
        "$H(z)=H'(z).z=1.85-\\frac{1.11z}{z-0.5}+\\frac{2.31z}{z+0.75}$\n",
        "\n",
        "$h[n]=1.85δ[n]-1.11(0.5)^nu[n]+2.31(-0.75)^nu[n]$\n",
        "$$ $$\n",
        "\n",
        "b)  \n",
        "$H(z)=\\frac{3(z^2-0.5z-0.208)}{(z-0.5)(z+0.75)}=\\frac{3z^2-1.5z-0.625}{z^2+0.25z-0.375}.\\frac{z^{-2}}{z^{-2}}=\\frac{3-1.5z^{-1}-0.625z^{-2}}{1+0.25z^{-1}-0.375z^{-2}}=\\frac{Y(z)}{X(z)}$\n",
        "\n",
        "$Y(z)+0.25z^{-1}Y(z)-0.375z^{-2}Y(z)=3X(z)-1.5z^{-1}X(z0-0.625z^{-2}X(z)$\n",
        "\n",
        "$y[n]+0.25y[n-1]-0.375y[n-2]=3x[n]-1.5x[n-1]-0.625x[n-2]$\n",
        "\n",
        "c)\n",
        "\n",
        "$H(z)=\\frac{3z^2-1.5z-0.625}{(z-0.5)(z+0.75)}=\\frac{3(z^2-0.5z-0.208)}{(z-0.5)(z+0.75)}=\\frac{3(z-0.792)(z+0.292)}{(z-0.5)(z+0.75)}$\n",
        "\n",
        "$polos: 0.5, -0.75$\n",
        "\n",
        "$zeros: 0.792, -0.292$\n",
        "\n",
        "![Diagrama polos e zeros.jpeg](data:image/jpeg;base64,/9j/4AAQSkZJRgABAQAAAQABAAD/4gHYSUNDX1BST0ZJTEUAAQEAAAHIAAAAAAQwAABtbnRyUkdCIFhZWiAH4AABAAEAAAAAAABhY3NwAAAAAAAAAAAAAAAAAAAAAAAAAAAAAAAAAAAAAQAA9tYAAQAAAADTLQAAAAAAAAAAAAAAAAAAAAAAAAAAAAAAAAAAAAAAAAAAAAAAAAAAAAAAAAAAAAAAAAAAAAlkZXNjAAAA8AAAACRyWFlaAAABFAAAABRnWFlaAAABKAAAABRiWFlaAAABPAAAABR3dHB0AAABUAAAABRyVFJDAAABZAAAAChnVFJDAAABZAAAAChiVFJDAAABZAAAAChjcHJ0AAABjAAAADxtbHVjAAAAAAAAAAEAAAAMZW5VUwAAAAgAAAAcAHMAUgBHAEJYWVogAAAAAAAAb6IAADj1AAADkFhZWiAAAAAAAABimQAAt4UAABjaWFlaIAAAAAAAACSgAAAPhAAAts9YWVogAAAAAAAA9tYAAQAAAADTLXBhcmEAAAAAAAQAAAACZmYAAPKnAAANWQAAE9AAAApbAAAAAAAAAABtbHVjAAAAAAAAAAEAAAAMZW5VUwAAACAAAAAcAEcAbwBvAGcAbABlACAASQBuAGMALgAgADIAMAAxADb/2wBDAAMCAgICAgMCAgIDAwMDBAYEBAQEBAgGBgUGCQgKCgkICQkKDA8MCgsOCwkJDRENDg8QEBEQCgwSExIQEw8QEBD/2wBDAQMDAwQDBAgEBAgQCwkLEBAQEBAQEBAQEBAQEBAQEBAQEBAQEBAQEBAQEBAQEBAQEBAQEBAQEBAQEBAQEBAQEBD/wAARCAGuAdsDASIAAhEBAxEB/8QAHQABAQACAgMBAAAAAAAAAAAAAAgGBwEFAgQJA//EAFMQAAEDAwICBgQHCgoHCQAAAAABAgMEBQYHERIhCAkTMUFhFBkiURUYcZaktNQjMjlCVliVs9LTKTNXZWiBkaKxshYXU1WjwtEkJTRSYmaFwcT/xAAUAQEAAAAAAAAAAAAAAAAAAAAA/8QAFBEBAAAAAAAAAAAAAAAAAAAAAP/aAAwDAQACEQMRAD8A+qYAAAAAAAAAAAAAAAAAAAAAAAAAAAAAAAAAAAAAAAAAAAAAAAAAAAAAAAAAAAAAAAAAAAAAAAAAAAAAAAAAAAAAAAAAAAAAAAAAAAAAAAAAAAAAAAAAAAAAAdTlsmRxYvdZMQpaepvjaOX4OiqZOzifUcK9mj3bLs3i23XbuAjXpE9Y3YdFelXh+jMKU1Tjkb+xy+rROJ9M+dOGHgXw7NVR708U5ci26app6yniq6SZk0E7GyRyMcjmvYqbo5FTvRUXfc+Eeq3QA6SsuvuPYfnGQWCuzDVKa43KGqbWudGr4W9rMr3K3dqbLs1E9yJ4H146IuF6x6b6KWfT/Wyqt9ZerAi0dNV0dSsyTUjf4viVUReJqez8iIBukAAAAAAAAAAAAAAAAAAAAAAAAAAAAAAAAAAAAAAAAAAAAAAAAAAAAAAAAAAAAAAAAAAAAAAAAAAAABJWvXPp79G5PdQ5Kv0QrUkrXfn0++jen835Kv0QrUAAAAAAAAAAAAAAAAAAAAAAAAAAAAAAAAAAAAAAAAAAAAAAAAAAAAAAAAAAAAAAAAAAAAAAAAAAAAAAkrXTn0/+jinutuTL9DUrUkvXDn1gXRzT3WrJl+hqVoAAAAAAAAAAAAAAAAAAAAAAAAAAAAAAAAAAAAAAAAAAAAAAAAAAAAAAAAAAAAAAAAAAAAAAAAAAAAAASXrbz6wXo6p/NGT/AFNxWhJetPPrCejunus2Tr9CcVoAAAAAAAAAAAAAAAAAAAAAAAAAAAAAAAAAAAAAAAAAAAAAAAAAAAAAAAAAAAAAAAAAAAAAAAAAAAAAASZrNz6w3o8J7rJlC/QnFZklayfhEOj0n8xZP9ScVqAAAAAAAAAAAAAAAAAAAAAAAAAAAAAAAAAAAAAAAAAAAAAAAAAAAAAAAAAAAAAAAAAAAAAAAAAAAAAASVrGv8Il0e091hyf6m8rUkjWJf4RTo+p/MGTfU3lbgAAAAAAAAAAAAAAAAAAAAAAAAAAAAAAAAAAAAAAAAAAAAAAAAAAAAAAAAAAAAAAAAAAAAAAAAAAAAAEj6w/hF+j8n/t/JvqbyuCR9YPwjHR/wDLHsl+qPK4AAAAAAAAAAAAAAAAAAAAAAAAAAAAAAAAAAAAAAAAAAAAAAAAAAAAAAAAAAAAAAAAAAAAAAAB4vkZE1XyPRrU5qqrsgHkDBl1Ys10qIqLCKKpyWSZkcrZ6Fu9K2OWJ74pVmX2FY5WcO7VXZXJuflTUer+QMgmud0tWMQSxMdNT0kfpdSxz6VzZGJI7aNHRzuRzXI1yORmypzAz1VRE3VURD15bnbYHMbNX0zHSORrUdK1Fcqoqoic+a7Iq/IhhVHo/bXSU1XkuWZNf6uBsSvdVXF0UUkraVaaR6ww8DESRrnPczZW8a8SIiom3t2vRvTCzeiLQ4Zb+Kh9HWnkmR0z2OghdDE7jkVzlc2Nzm8Srvsq7qoE16q36yVvWLaBS0l4opmf6O5D7Uc7XJ7dI/g5ov43h7ywYaykqGo+nqoZWuRFRWPRyKi93cRbqfp/gtu6w3QS2W/D7PTUrMbvu0MNFGxidjSv7Hkififi/wDl8Nin/wDUjpexIvRMVjoVhkppY1oqian4HU6uWHlG9E2ar3Lwr7K780UDOQYBDpdcrKxqYpqPklHwup/uVdO2vjWOJznOYnaor07RXbOdxKuyJw7HLLvqtjrf+/bDbshp2rC1ai1uWGXZUcs0iwvVeTdmo1rXKrlXwAz4GL41qPjGTTSUENTJRXGB0Uc9BWsWGeKSSPtGxq13e7g57JvshlAAAAAAAAAAAAAAAAAAAAAAAAAAAAAAAAAAAAAAAAAAAAAAAAAAAAAAAAAAAAAAAAMFyLMrldbzJheA9jU3GB/Z3Ot4uKG28muWORW7q2ZzHcTEVNl25ge/lmoFFjtRFaLbRTXm91O/o9upVTidwq1Xo56+zGqMdxJxKm6JyOqp8Bv2UVcN01JvS1DKWp9IpbVb5Xw0sb45nvgmc5vDI96Rua17VVWKqdynfYdhFqw2mldTvkrLnWth+ErpUI30m4SRxpG2SZWoiOcjURN0RO4yID1bZa7ZZaCC1Wa3UtBRUzEjgpqaFsUUTU7mtY1ERqeSIe0AAAAEj6tfhG9CPLGsj+rPK4JH1X59Y7oX5YxkS/R3lcAAAB0eVYZjuZUbaS+25kr4uNaapZ7FRSPe1WrJDKntRP4V24mqimL8Ge6euRsXb5XYEe9UYif9vpGK6NkMTd1XtmtTjc+Ryo7ZO5TYgA6vG8msWXWiC+47cYq2iqUVY5Y15Lsqovfz5Kip/UdoYJkmDV9uus+b6eqymvkrYm1dJJI5Ke5RxMc2KJ26q2FG8au4mNRVVE33O8xDMbbl9AtRTRzUtVC+SOoo6pnZTxKyR8auWNfaRjnRuVrlTZybKgHfgAAAAAAAAAAAAAAAAAAAAAAAAAAAAAAAAAAAAAAAAAAAAAAAAAAAAAAAAHUZXkluxHHq3IrrOkVPRxq9XKx7k4l5NRUYiu2VyonJF7wOkzrJrnHPT4hiSMmvdx5Pemz2UEPjLO1F42NcnE1rttuI7fEsSteH2qO3UCPllVrfSayfZ1TVPRNkfNIiIsjtuW689kQ6bTrGaqkhny7I44pMhvarLPL7L3U0Dl4mUrJERFdEzvai+LlM0AAAAAAAAAkfVXn1j2hye7Fsh+ruK4JH1T59Y/oj5YrkC/8AAcVwAAAAAADB8zxSvpbomfYVDBFfYmxx1saojG3OnYqo2OZ6JxKkaSSPYifjLt4mcADqsWyS3Zfj9BklqSdtNcKeOojZUQuhmYj2o5Gvjd7THbKm7V5odqa5rIY9Ns4W9U6RU+P5XUolyWSZkccFydwsbUOfIu7lkRsUTY2+KIu3M2MAAAAAAAAAAAAAAAAAAAAAAAAAAAAAAAAAAAAAAAAAAAAAAAAAAAAAADXuRySZbqRa8PZ6VHRWONt5rndhNGyV+6tgYydF4HbO3V8aovLZTP5pWwQvmciqkbVcqJ3rsngYLpFQultVzzGpgnirMmuEtZIk9G6llSJq9nE18SvciORre9F9pNlAz3uAAAAAAAAAAEj6o8+sf0U8sTv/AOpcVwSRqdz6yDRfyxK/fqnFbgAAAAAAAAdVlGPUmVWGssVY90SVUTmxzsa1ZKeTb2JY90VEexdnNXwVEU6XS7JarIsY7C7SUy3myVMtpusdPO+ZsVTFt7KyOa3jcrHRucqJtu5URV2MvMEp5PgDV2oonVkSQZRbUqIoHPnc/wBIpl4XqxqN7GNqseiqquRznbd+wGdgAAAAAAAAAAAAAAAAAAAAAAAAAAAAAAAAAADwfLHHt2kjW79267BJoXJu2Vi/I5APMHh2sX+0b/aO1i/2jf7QPMHikkarsj2qvynO6e8DkHG6e8bp7wOQAAAAAAAYtqfWSUOBXqWKOoke+ldC1sFEtY9Vf7PKFHNV/f3bodtjFrisuOWy0QMaxlHSRQojWKxE4WonJqqqt+TddjGNYqdKzFaehczjZU3Siie1bZLXIqLKneyNzXNT/wBe+ze9UUzlERERE7kAKqIm6nJ4rzVWq3lt4+JrvXHV6XRLHbZnFxxh9yxhl2pqPJK+KqVj7HQzO7P4QWLgd20Ub3M7VEc1Wxq56cXCqAbFRyKqt35p4HJrjAtYItRtSMzxLGLG2oxzCvRaCpyRKzijq7vI1ZJqKCNrFR6QROgWSXtE2fMjEYvC5x6OfazXy16k2/RrTDCKfK8wqLY6/V7a+7fBlttNtR7omS1NS2GeTtJZWqyKKOCRXcMjnKxreJQ2qDWOmusVyyfNr/pRn+IQ4rm+PUdNdZKKluXwhQ11tqHyMiq6SpdFC+RnHFJG9HwxuY9qps5Fa5dnAAABJGpnPrItGvLEL9+qcVuSRqUn8JFo75Ydff1bitwAAAAxvUjPbFpbp/kWo+TPkbasZtlRdKtIk3e6OGNXq1iL3udtsieKqhpW/wCo/SmxHSefXy/W/TyW2W22PyS6YNT2+sS401tbG6aSCO7rVLFNVRwpv/4JjHva5icKKjwKOBjs15ueU6fuyHTattnp93tHptiqLnE+SjWSWHjp3TMjc17o93MVyMci7b7LuaCwTpX5TqxcNP8AT3CccttDqDPUTP1KtlxjklZidPQvWKta5rJGr2k1QiR0qq5Uc1yyKjmscgFPmCanS/BtdiOQelQQJSX2Cmf281Q1r21CLFwo2Fq8buJzdkenAi81VNtzOzBNbpXUum9yr2T00L6OWlqGvqa6ejibw1Ea+1LAx8iJtvyRq79y8lVQM7AAAAAAAAAAAAAAAAAAAGhek70v8G6KVfiD9RLPcJrLlFVLSS19Fs99CrGoqPdF3vbz58K7p4IvcbS071P0+1Zx2DLNOMttuQWqoajmVFHMjuHfwc375jve1yIqe4DKAAAAAAAAAAAAAGp9dOjVp90hX2R+dV2SUy2FKlKX4HvM9Bxdv2fH2nZOTj/im7b93PbvU1U7q29BeSRZNqVGnubmVdz/ALXlWgCUfVt6FflZqZ88q39serb0K/KzUz55Vv7ZVwAlH1bmhic25dqa1fBUzKt3T++cerd0U/LrVP55Vn7RV4AlD1buin5dap/PKs/aHq3dFPy61T+eVZ+0VeAJPXq3tHd/Y1F1XYnuTMqvb/Mcere0g/lJ1Z+eVV/1KxAEnere0g/lJ1Z+eVV/1Hq4NI279nqbq0xV8UzGqX/FSsQBJ3q4tKv5VtXPnhUD1cWlX8q2rnzwqCsQBEeo3V+6d2CzUdbbdWdUWvkudJBItTkFwrG9m+REdwsgXia7buevstXm7ke/N1WejE1ZU1jtWNXkWrfxTtblC/dE332cqxqq/wBaqUtrLTul0+uM8bKd76N0VWxKhalI92PReaU33Vfkbvv4psZjR1CVdHBVIu6TRtkTkqd6b9y80/rAmX1degH++9Svnzcf3hq7pCdA/T+24lRYlpdRan3XJc0r47DT1c2TXSst1mglRfSLhXJ2nZ9lFEj1SN7k7WRY40R3EpeJ4NY5HuesjnI7bZqomzfk5b/27gfPrSLq7tOcdzXMtE8zptTX2W2uiveK5HQ32upqGsts7tnUk6xbUza2CdknEjUar45IpEYnNTnNeg/phpbrS3IL3aNYbzp3kVkgoW3HHLtd7rcLXdoZJ5FbVQ0faVb6aWJWox7WPZHK1Wu4O0aq/QcAfPbTXq+dLtR9XL9qRLbtVbBg1Lb6a32Fb1eq+gu10rGvm9KqXRzo2sp6dreyjjjlRjnqj3onA5m+6fV16Af771K+fNx/eFQACVLb1bHR5tcckVPe9StpHrIu2aVzOe3uY5qL3d68/M6bMuq60Fy2KCFmc6o21sSPR6RZXLUpKi7bI5KlJETbbw271335bWIAPk5kHV06S4p0wcB0UtmfagfBGRY7c7lUVq3SJtbFJCxytbHI2FEaxduaK1d/eUxYerB02xiaWosOu2stE+ZqMkWLJGN4kRd+e0R2movPrJdI/LDL3/kcVuBH9z6tvFLq6N0/SU11j7NFREiytrUXf3/cj0fViYX+czr387W/uSzgBEl+6rnEbnjV7s1P0kNa55bnbp6SJlxydJ6RZHt9jt4kjb2sXEjeKNVTiTdN0XZU17N0ONaciwJdNKtdeqHJ7lG+0XLILrqvT1mJRQo10ctVHBFUJW1EMkbeKOmlpY3KsqRyOY1HOT6OObxNVqqqbptyXZQnd3gSdcugZjGO4RU0mN6ydIOtntVrcyhtlu1GlpnVDoovudPCkqpBFxK1GN49o27puqIm6aGj6tLUmgmwPNKzVbU6ryDKqiKDVFlpy5kVTAj2O7CphqZ13njo90iex7pHyM3dEiKnC76VgCMfVkYwirw9KjpANRfBMub+5OmzboCWbTzDrpkVH0mNc7g+NsTEpa3N6anilc6VrWoss0CsYu7uSqnNeXiXOYNq1Ik1otFlSSpR91vdDT8NNUUsT3MSVHv5VDXNkajWLxManGqb8Oy8wND+r9pPzp9dPnFB+4OfV/wN/iulZrqxfemQ0/8A905WAAk/4gP9LTXj5wU32YfEB/paa8fOCm+zFYACT/iBf0tNePnBTfZjn4g9X4dL/XpP/nqT7MVeAJQ+IPV/nf69fp6k+zD4g9X+d/r1+nqT7MVeAJQ+IZdWJtB0xNeGJ48V7pF//MPiH3z88jXb9M0n2cq8ASh8Q++fnka7fpmk+zj4iF+bzZ0yddUcncvwzSfZyrwBJ/xFsu/PS1x/SlL+4HxFsu/PS1x/SlL+4KwAHx46yXouZ3hdLp/Z7RqrqVqpcr7Xz09Lb7zJHVuicjEXeJsUbVRV32Xc2r1e3V566aSZBR6ralah3PDWLwyJi1qqUdJVt2+9rF5sa33saiu97m9x9K5aChnqYa2ejhkqKfdIZXRor49+/hVeab+R+4AAAAAAAAAAAAAAAAAAAAAAAAAAAAAAAAHo3y3Nu9mrrW9N0q6eSHbtXx/fNVPvmKjm/K1d/cY9pRcn3LBLa2dkTJ6FrqGZsXpCsR8LlYqNdUIkrk5J7Tua9+695l5r6xJLimqF4sK0zG27JY0u9JIz0qV/pLURlQkskjliZv8Ac1ZHHw8kcu3iBsEAAAAAAAAAASRqHz6ybSfywq9L/dcVuSRqDz6yfSnywm8/4OK3AAAAAAAAAGB5BI296pY9YopplZZaaa71TI30r2Irk7KFJWPRZm7qr1a+PZN2qir4GdSSRwxvmlejWMarnOXuRE71MB0rkfkr7xqXJLNJBkdQi2pHywTRNt0acMEkD42I9I5mokyskc5Wue7u7gNgAAAAAAAAAAAAAAAAAAAAAAAAAAAAAAAAAAAAAAAAAAAAAAAAAAAAABiGpeO1N4s8F2tEED7zYZkr7c+SmdUK2Rqe01jEexFc5u7U3XZN+4y8AdTi2R0OV2OmvVA9qtmbtJGj2uWGVOT43cKqiOau6Km/JUO2NbVkU+l+WPvMHbPxa/zMjqKWNjEitlTts10MUbEXaRyq6R73Lsqbmx2PZKxskb2vY5N2uau6KnvRQPIAAAAAAAEkZ9z6yjSzywe8f8xW5JGec+sp0v8ALBrv/wAxW4AAAAAAAOky/Krfh1klu9e5HPVexpIOJGuqqlyL2UDVXlxPciNTfluoGPanVdVeEo9N7TPVwVmRcSVFTS1D6aWlo2bdrJHM1jkZKm6cKOT2ufuM3pqeGkp46WnjRkULEYxqJsiIibIhiWn2L11A+4ZfkqRSZDf3I6okZG6JYaRr3upaZzONzOOJkisc9qJxqiqvgZkAAAAAAAAAAAAAAAAAAAAAAAAAAAAAAAAAAAAAAAAAAAAAAAAAAAAAAAAB6tzttDebdVWi6UzaijrYXwTxO32kjcmzmrt4Kiqa/ttdctKa6LH77K+rxeplc23VzY0alv3cvBSvam/DDHG1NpXL8pso9W6Wu3Xu3VNou9FDV0VbE6CogmajmSxuTZzXIveiooH7xSxTxsmhkbJHI1HMe1d0ci9yoqd6Hma6bbcv04qVksrp8gx2eofI+jlkRJ7ej37okK7I1KeKNNkZzd7jKsUzLHs1tcF2x+vbNHPBFULC9FjniZI3iZ2kTtnxqqc0RyIuwHdgAAAAJIzrn1lWmXlgl3/xcVuSRnHPrK9NfLArsv8AecVuAAAAAxDJtRbfarg/GbFBJeMiWKOVtBTJxLDHKr2xzyr+LFxxq1XJuqe4Du8kyWz4pa3Xe+VjKanR7IWudv7Uj3I1jE28XOVET5TE8WsN8ym9Q6g5pTy0atiT4Js6vVPQopI4lkbUs5skmSWNyten3rXbJ4n747gtwqr03NM9q2114Zx+hU0e6QW2KVkSSQNRF2mTjj4ke9OJOJdtjOQAAAAAAAAAAAAAAAAAAAAAAAAAAAAAAAAAAAAAAAAAAAAAAAAAAAAAAAAAAAAAAYdlGm1tvVVU3+yVk1iyGWN/DcqPZFfL2KxRvmZ3TJGiorWu5JsZiANfV2S6iYa2tqL3jD8jtlM2aaKe0bLWLExkaMasLlRHyvcsi+yqIiNQ7i36n4Jca6qtjMjpaaso5qiGWnq1WnkRYHNbK5Ek24mNc9icabt9pNlMpOmyTDcUy+hnt2T49QXOnqYVp5WVEDX8UauRys379lVrV2370T3AdyDA7ho9Yp0uMllvl/slRcm1ayTUFxkarJah7HyStRVVEeixojV/FRVRO8867Bcwc6tfa9ULrTLUsrEiSSCKVIHyo1InN3TmkXCqtRe/iXcDQWa8+ss04T3YDdf86lbER5hjuV+sXw+hkzed1VV4DeVpKtKWNHUbXNVjURu2zuF/t8/kKhdpveqyRH3TUvI5Wp26KynlbA1UkgSPb2U39lyLI1fBygZnXXG32yB9Vcq6npII2q98k8rY2taibqqq5UREQwyv1gxtZ1t+K0tbk1dxzwJFbYVdGk0TGvWN8q+wxVa5Faqrs7wU/Wm0dwRlRHWXG2S3apie+RJbjUPqF4nwpFIuzl29pic02233Uy6it9DbYG01vo4aaJiI1rImI1ERE2TknuREQDB32nUvL1Rbtd24vb1WVFp7c7iq3pxsdC9ZV5MXZHNe1E2XdTJ8Zw/HMPom0GPWuKljbxbuTdz3cTle7dzt1XdzlXbfbdVO5AAAAAAAAAAAAAAAAAAAAAAAAAAAAAAAAAAAAAAAAAAAAAAAAAAAAAAAAAAAAAAAAAAAAAAAAAEk5jz6y7T7y0+uf6xStiScv59ZfgPlp5cv1qlbAAAAAAAAAAAAAAAAAAAAAAAAAAAAAAAAAAAAAAAAAAAAAAAAAAAAAAAAAAAAAAAAAAAAAAAAAAAAAAEk5Zz6zDBPLTu4/rlK2JJyrn1mOD+WnNx/XKVsAAAAAAAAAAAAAAAAAAAAAAAAAAAAAAAAAAAAAAAAAAAAAAAAAAAAAAAAAAAAAAAAAAAAAAAAAAAAAASVlHPrMsK8tN7gv/HUrUkrJufWZ4b5abV6/SFK1AAAAAAAAAAAAAAAAAAAAAAAAAAAAAAAAAAAAAAAAAAAAAAAAAAAAAAAAAAAAAAAAAAAAAAAAAAAAAAJKyTn1mmH+Wmtcv0hStSSsh59ZriflpnW/WVK1AAAAAAAAAAAAAAAAAAAAAAAAAAAAAAAAAAAAAAAAAAAAAAAAAAAAAAAAAAAAAAAAAAAAAAAAAAAAAAJKv8Az6zbFfLTGs+tKVqSVffwm+MeWmFX9bUrUAAAAAAAAAAAAAAAAAAAAAAAAAAAAAAAAAAAAAAAAAAAAAAAAAAAAAAAAAAAAAAAAAAAAAAAAAAAAAAkq9pv1nGOeWl1X9bUrUku8c+s4x/y0uqvrhWgAAAAAAAAAAAAAAAAAAAAAAAAAAAAAAAAAAAAAAAAAAAAAAAAAAAAAAAAAAAAAAAAAAAAAAAAAAAAABJd159ZvY/LS6p+uFaEl3Ln1m9n8tLaj64hWgAAAAAAAAAAAAAAAAAAAAAAAAAAAAAAAAAAAAAAAAAAAAAAAAAAAAAAAAAAAAAAAAAAAAAAAAAAAAABJlfz6ze1eWls/wBcQrMnep0sz2Tp20WsDMfcuHw4BLZn3P0mHZK1apHpF2XH2v3vPi4OHzKIAAAAAAAAAAAAAAAAAAAAAAAAAAAAAAAAAAAAAAAAAAAAAAAAAAAAAAAAAAAAAAAAAAAAAAAAAAAAAAAAAAAAAAAAAAAAAAAAAAAAAAAAAAAAAAAAAAAAAAP/2Q==)\n",
        "$$ $$\n",
        "\n",
        "d)\n",
        "$|polos|<1$, o sistema é estável"
      ],
      "metadata": {
        "id": "nyNXujJ1_o09"
      },
      "id": "nyNXujJ1_o09"
    },
    {
      "cell_type": "code",
      "execution_count": null,
      "id": "d41bd68b-9b8a-499b-aafd-bf954364bec6",
      "metadata": {
        "id": "d41bd68b-9b8a-499b-aafd-bf954364bec6"
      },
      "outputs": [],
      "source": []
    }
  ],
  "metadata": {
    "kernelspec": {
      "display_name": "Python 3 (ipykernel)",
      "language": "python",
      "name": "python3"
    },
    "language_info": {
      "codemirror_mode": {
        "name": "ipython",
        "version": 3
      },
      "file_extension": ".py",
      "mimetype": "text/x-python",
      "name": "python",
      "nbconvert_exporter": "python",
      "pygments_lexer": "ipython3",
      "version": "3.10.11"
    },
    "colab": {
      "provenance": []
    }
  },
  "nbformat": 4,
  "nbformat_minor": 5
}